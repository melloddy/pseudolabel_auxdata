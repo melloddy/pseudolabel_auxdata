{
 "cells": [
  {
   "cell_type": "code",
   "execution_count": 1,
   "metadata": {},
   "outputs": [],
   "source": [
    "import pandas as pd\n",
    "import numpy as np \n",
    "from tqdm import tqdm\n",
    "\n",
    "import sys\n",
    "import os\n",
    "import glob\n",
    "import json\n",
    "import types"
   ]
  },
  {
   "cell_type": "code",
   "execution_count": 2,
   "metadata": {},
   "outputs": [],
   "source": [
    "#!pip install modeval"
   ]
  },
  {
   "cell_type": "code",
   "execution_count": 3,
   "metadata": {},
   "outputs": [],
   "source": [
    "# might require sys.insert\n",
    "#import modeval"
   ]
  },
  {
   "cell_type": "code",
   "execution_count": 4,
   "metadata": {
    "jupyter": {
     "source_hidden": true
    }
   },
   "outputs": [],
   "source": [
    "\n",
    "def load_results(filename, two_heads=False):\n",
    "    \"\"\"Loads conf and results from a file\n",
    "    Args:\n",
    "        filename    name of the json/npy file\n",
    "        two_heads   set up class_output_size if missing\n",
    "    \"\"\"\n",
    "    if filename.endswith(\".npy\"):\n",
    "        return np.load(filename, allow_pickle=True).item()\n",
    "\n",
    "    with open(filename, \"r\") as f:\n",
    "        data = json.load(f)\n",
    "\n",
    "    for key in [\"model_type\"]:\n",
    "        if key not in data[\"conf\"]:\n",
    "            data[\"conf\"][key] = None\n",
    "    if two_heads and (\"class_output_size\" not in data[\"conf\"]):\n",
    "        data[\"conf\"][\"class_output_size\"] = data[\"conf\"][\"output_size\"]\n",
    "        data[\"conf\"][\"regr_output_size\"]  = 0\n",
    "\n",
    "    data[\"conf\"] = types.SimpleNamespace(**data[\"conf\"])\n",
    "\n",
    "\n",
    "    if \"results\" in data:\n",
    "        for key in data[\"results\"]:\n",
    "            data[\"results\"][key] = pd.read_json(data[\"results\"][key])\n",
    "\n",
    "    if \"results_agg\" in data:\n",
    "        for key in data[\"results_agg\"]:\n",
    "            data[\"results_agg\"][key] = pd.read_json(data[\"results_agg\"][key], typ=\"series\")\n",
    "\n",
    "    for key in [\"training\", \"validation\"]:\n",
    "        if key not in data:\n",
    "            continue\n",
    "        for dfkey in [\"classification\", \"regression\"]:\n",
    "            data[key][dfkey] = pd.read_json(data[key][dfkey])\n",
    "        for skey in [\"classification_agg\", \"regression_agg\"]:\n",
    "            data[key][skey]  = pd.read_json(data[key][skey], typ=\"series\")\n",
    "\n",
    "    return data\n",
    "\n"
   ]
  },
  {
   "cell_type": "code",
   "execution_count": 54,
   "metadata": {},
   "outputs": [
    {
     "name": "stderr",
     "output_type": "stream",
     "text": [
      "100%|██████████| 270/270 [00:04<00:00, 59.07it/s]\n"
     ]
    }
   ],
   "source": [
    "eval_metric = 'roc_auc_score'\n",
    "min_samples = 5\n",
    "avg_perf = 0 \n",
    "HP_folder = 'HP_scan'\n",
    "path = f'../../Classification_no_aux/{HP_folder}/Run*/models/'\n",
    "for file in tqdm(glob.glob(os.path.join(path, '*.json'))):\n",
    "        res = load_results(file)\n",
    "        new_avg_perf = np.mean(res['validation']['classification'].query('num_pos>@min_samples and num_neg>@min_samples')[eval_metric])\n",
    "        if avg_perf < new_avg_perf : \n",
    "            avg_perf = new_avg_perf\n",
    "            best_model = file.split('/')[-3] \n",
    "            "
   ]
  },
  {
   "cell_type": "code",
   "execution_count": 6,
   "metadata": {},
   "outputs": [
    {
     "data": {
      "text/plain": [
       "0.5854742835012194"
      ]
     },
     "execution_count": 6,
     "metadata": {},
     "output_type": "execute_result"
    }
   ],
   "source": [
    "avg_perf"
   ]
  },
  {
   "cell_type": "code",
   "execution_count": 7,
   "metadata": {},
   "outputs": [
    {
     "data": {
      "text/plain": [
       "0.5854742835012194"
      ]
     },
     "execution_count": 7,
     "metadata": {},
     "output_type": "execute_result"
    }
   ],
   "source": [
    "avg_perf"
   ]
  },
  {
   "cell_type": "code",
   "execution_count": 8,
   "metadata": {},
   "outputs": [
    {
     "data": {
      "text/plain": [
       "0.5854742835012194"
      ]
     },
     "execution_count": 8,
     "metadata": {},
     "output_type": "execute_result"
    }
   ],
   "source": [
    "avg_perf"
   ]
  },
  {
   "cell_type": "code",
   "execution_count": 9,
   "metadata": {},
   "outputs": [
    {
     "data": {
      "text/plain": [
       "'Run_270_epoch_lr_step_20_10_drop_0.0_size_1253434'"
      ]
     },
     "execution_count": 9,
     "metadata": {},
     "output_type": "execute_result"
    }
   ],
   "source": [
    "best_model"
   ]
  },
  {
   "cell_type": "code",
   "execution_count": 64,
   "metadata": {},
   "outputs": [],
   "source": [
    "## AUC "
   ]
  },
  {
   "cell_type": "code",
   "execution_count": 57,
   "metadata": {
    "scrolled": true
   },
   "outputs": [
    {
     "name": "stderr",
     "output_type": "stream",
     "text": [
      "100%|██████████| 270/270 [00:04<00:00, 67.26it/s]\n"
     ]
    }
   ],
   "source": [
    "eval_metric = 'roc_auc_score'\n",
    "min_samples = 5\n",
    "avg_perf = 0 \n",
    "\n",
    "for file in tqdm(glob.glob(os.path.join(path, '*.json'))):\n",
    "        res = load_results(file)\n",
    "        new_avg_perf = np.mean(res['validation']['classification_agg'][eval_metric])\n",
    "        if avg_perf < new_avg_perf : \n",
    "            avg_perf = new_avg_perf\n",
    "            best_model = file.split('/')[-3] "
   ]
  },
  {
   "cell_type": "code",
   "execution_count": 29,
   "metadata": {},
   "outputs": [
    {
     "data": {
      "text/plain": [
       "0.6025961974"
      ]
     },
     "execution_count": 29,
     "metadata": {},
     "output_type": "execute_result"
    }
   ],
   "source": [
    "avg_perf"
   ]
  },
  {
   "cell_type": "code",
   "execution_count": 20,
   "metadata": {},
   "outputs": [
    {
     "data": {
      "text/plain": [
       "0.6032526632"
      ]
     },
     "execution_count": 20,
     "metadata": {},
     "output_type": "execute_result"
    }
   ],
   "source": [
    "avg_perf"
   ]
  },
  {
   "cell_type": "code",
   "execution_count": 10,
   "metadata": {},
   "outputs": [
    {
     "data": {
      "text/plain": [
       "0.6499668838"
      ]
     },
     "execution_count": 10,
     "metadata": {},
     "output_type": "execute_result"
    }
   ],
   "source": [
    "avg_perf"
   ]
  },
  {
   "cell_type": "code",
   "execution_count": 28,
   "metadata": {},
   "outputs": [
    {
     "data": {
      "text/plain": [
       "'Run_095_epoch_lr_step_10_5_drop_0.6_size_1000'"
      ]
     },
     "execution_count": 28,
     "metadata": {},
     "output_type": "execute_result"
    }
   ],
   "source": [
    "best_model"
   ]
  },
  {
   "cell_type": "code",
   "execution_count": 58,
   "metadata": {},
   "outputs": [],
   "source": [
    "results_best = load_results(f'../../Classification_no_aux/{HP_folder}/{best_model}/models/classification_image_based.json')\n"
   ]
  },
  {
   "cell_type": "code",
   "execution_count": 44,
   "metadata": {},
   "outputs": [
    {
     "name": "stdout",
     "output_type": "stream",
     "text": [
      "minmax\n",
      "Run_270_epoch_lr_step_20_10_drop_0.0_size_1253434\n",
      "0.5854742835012194\n",
      "212\n",
      "114\n"
     ]
    },
    {
     "data": {
      "text/plain": [
       "<AxesSubplot:>"
      ]
     },
     "execution_count": 44,
     "metadata": {},
     "output_type": "execute_result"
    },
    {
     "data": {
      "image/png": "[encoded data removed]",
      "text/plain": [
       "<Figure size 432x288 with 1 Axes>"
      ]
     },
     "metadata": {
      "needs_background": "light"
     },
     "output_type": "display_data"
    }
   ],
   "source": [
    "print(best_model)\n",
    "print(avg_perf)\n",
    "print(sum(results_best['validation']['classification']['roc_auc_score']>0.5))\n",
    "print(sum(results_best['validation']['classification']['roc_auc_score']>0.6))\n",
    "results_best['validation']['classification']['roc_auc_score'].hist()"
   ]
  }
 ],
 "metadata": {
  "kernelspec": {
   "display_name": "Mellody Tuner",
   "language": "python",
   "name": "melloddy_tuner_regression"
  },
  "language_info": {
   "codemirror_mode": {
    "name": "ipython",
    "version": 3
   },
   "file_extension": ".py",
   "mimetype": "text/x-python",
   "name": "python",
   "nbconvert_exporter": "python",
   "pygments_lexer": "ipython3",
   "version": "3.6.11"
  }
 },
 "nbformat": 4,
 "nbformat_minor": 4
}
