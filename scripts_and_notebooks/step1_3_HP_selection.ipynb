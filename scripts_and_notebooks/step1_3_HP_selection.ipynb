{
 "cells": [
  {
   "cell_type": "code",
   "execution_count": null,
   "metadata": {},
   "outputs": [],
   "source": [
    "import pandas as pd\n",
    "import numpy as np \n",
    "from tqdm import tqdm\n",
    "\n",
    "import sys\n",
    "import os\n",
    "import glob\n",
    "import json\n",
    "import types"
   ]
  },
  {
   "cell_type": "code",
   "execution_count": null,
   "metadata": {},
   "outputs": [],
   "source": [
    "HP_folder = '../image_model_training/HP_scan_image_model/Run*/models/'"
   ]
  },
  {
   "cell_type": "code",
   "execution_count": null,
   "metadata": {
    "jupyter": {
     "source_hidden": true
    }
   },
   "outputs": [],
   "source": [
    "\n",
    "def load_results(filename, two_heads=False):\n",
    "    \"\"\"Loads conf and results from a file\n",
    "    Args:\n",
    "        filename    name of the json/npy file\n",
    "        two_heads   set up class_output_size if missing\n",
    "    \"\"\"\n",
    "    if filename.endswith(\".npy\"):\n",
    "        return np.load(filename, allow_pickle=True).item()\n",
    "\n",
    "    with open(filename, \"r\") as f:\n",
    "        data = json.load(f)\n",
    "\n",
    "    for key in [\"model_type\"]:\n",
    "        if key not in data[\"conf\"]:\n",
    "            data[\"conf\"][key] = None\n",
    "    if two_heads and (\"class_output_size\" not in data[\"conf\"]):\n",
    "        data[\"conf\"][\"class_output_size\"] = data[\"conf\"][\"output_size\"]\n",
    "        data[\"conf\"][\"regr_output_size\"]  = 0\n",
    "\n",
    "    data[\"conf\"] = types.SimpleNamespace(**data[\"conf\"])\n",
    "\n",
    "\n",
    "    if \"results\" in data:\n",
    "        for key in data[\"results\"]:\n",
    "            data[\"results\"][key] = pd.read_json(data[\"results\"][key])\n",
    "\n",
    "    if \"results_agg\" in data:\n",
    "        for key in data[\"results_agg\"]:\n",
    "            data[\"results_agg\"][key] = pd.read_json(data[\"results_agg\"][key], typ=\"series\")\n",
    "\n",
    "    for key in [\"training\", \"validation\"]:\n",
    "        if key not in data:\n",
    "            continue\n",
    "        for dfkey in [\"classification\", \"regression\"]:\n",
    "            data[key][dfkey] = pd.read_json(data[key][dfkey])\n",
    "        for skey in [\"classification_agg\", \"regression_agg\"]:\n",
    "            data[key][skey]  = pd.read_json(data[key][skey], typ=\"series\")\n",
    "\n",
    "    return data\n",
    "\n"
   ]
  },
  {
   "cell_type": "code",
   "execution_count": null,
   "metadata": {},
   "outputs": [],
   "source": [
    "eval_metric = 'roc_auc_score'\n",
    "min_samples = 5\n",
    "avg_perf = 0 \n",
    "\n",
    "for file in tqdm(glob.glob(os.path.join(HP_folder, '*.json'))):\n",
    "        res = load_results(file)\n",
    "        new_avg_perf = np.mean(res['validation']['classification'].query('num_pos>@min_samples and num_neg>@min_samples')[eval_metric])\n",
    "        if avg_perf < new_avg_perf : \n",
    "            avg_perf = new_avg_perf\n",
    "            best_model = file.split('.json')[0].split('/')[-3] "
   ]
  },
  {
   "cell_type": "code",
   "execution_count": null,
   "metadata": {},
   "outputs": [],
   "source": [
    "best_model, avg_perf"
   ]
  },
  {
   "cell_type": "code",
   "execution_count": null,
   "metadata": {},
   "outputs": [],
   "source": [
    "## AUC "
   ]
  },
  {
   "cell_type": "code",
   "execution_count": null,
   "metadata": {
    "scrolled": true
   },
   "outputs": [],
   "source": [
    "eval_metric = 'roc_auc_score'\n",
    "min_samples = 5\n",
    "avg_perf = 0 \n",
    "\n",
    "for file in tqdm(glob.glob(os.path.join(HP_folder, '*.json'))):\n",
    "        res = load_results(file)\n",
    "        new_avg_perf = np.mean(res['validation']['classification_agg'][eval_metric])\n",
    "        if avg_perf < new_avg_perf : \n",
    "            avg_perf = new_avg_perf\n",
    "            best_model = file.split('.json')[0].split('/')[-3] "
   ]
  },
  {
   "cell_type": "code",
   "execution_count": null,
   "metadata": {},
   "outputs": [],
   "source": [
    "best_model,avg_perf"
   ]
  },
  {
   "cell_type": "code",
   "execution_count": null,
   "metadata": {},
   "outputs": [],
   "source": []
  }
 ],
 "metadata": {
  "kernelspec": {
   "display_name": "Mellody Tuner",
   "language": "python",
   "name": "melloddy_tuner_regression"
  },
  "language_info": {
   "codemirror_mode": {
    "name": "ipython",
    "version": 3
   },
   "file_extension": ".py",
   "mimetype": "text/x-python",
   "name": "python",
   "nbconvert_exporter": "python",
   "pygments_lexer": "ipython3",
   "version": "3.6.11"
  }
 },
 "nbformat": 4,
 "nbformat_minor": 4
}
