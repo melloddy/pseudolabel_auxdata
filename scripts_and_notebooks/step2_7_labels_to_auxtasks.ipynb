{
 "cells": [
  {
   "cell_type": "code",
   "execution_count": null,
   "metadata": {},
   "outputs": [],
   "source": [
    "import numpy as np \n",
    "import pandas as pd \n",
    "from tqdm import tqdm\n",
    "import json \n",
    "from scipy.sparse import load_npz"
   ]
  },
  {
   "cell_type": "code",
   "execution_count": null,
   "metadata": {},
   "outputs": [],
   "source": [
    "# take the labels from the y matrix, then put them into T1 csv format in the aux tasks corresponding to the main tasks\n",
    "# in the next step/notebook we will join them together with the other data (melloddy/pseudolabels)"
   ]
  },
  {
   "cell_type": "code",
   "execution_count": null,
   "metadata": {},
   "outputs": [],
   "source": [
    "# challenge is to find the corresponding auxiliary task \n",
    "# cont_classification_task_id (baseline) -> iai + threshold -> cont_classification_task_id (image_model) -> melloddy_compatible iai"
   ]
  },
  {
   "cell_type": "code",
   "execution_count": null,
   "metadata": {},
   "outputs": [],
   "source": [
    "path = '/projects/melloddy/data/y2run_final/data_prep/y2_ext/y2_ext_noaux/results_tmp/classification/T8c.csv'\n",
    "t8_baseline = pd.read_csv(path)\n",
    "t8_baseline['threshold'] = t8_baseline['threshold'].round(decimals=5)"
   ]
  },
  {
   "cell_type": "code",
   "execution_count": null,
   "metadata": {},
   "outputs": [],
   "source": [
    "path = '/projects/home/wheyndri/research/wp1_imageauxdata/15_y3_imageaux_study_taskthreshold/data/image_model_step1/image_model_step1/results_tmp/classification/T8c.csv'\n",
    "t8_imagemodel = pd.read_csv(path)\n",
    "t8_imagemodel['threshold'] = t8_imagemodel['threshold'].round(decimals=5)"
   ]
  },
  {
   "cell_type": "code",
   "execution_count": null,
   "metadata": {},
   "outputs": [],
   "source": [
    "t8_mgd = pd.merge(\n",
    "    t8_imagemodel\n",
    "    ,t8_baseline\n",
    "    ,how='inner'\n",
    "    ,on=['input_assay_id','threshold']\n",
    "    ,suffixes=('_image','_baseline')\n",
    ")\n",
    "t8_mgd = t8_mgd[~t8_mgd['cont_classification_task_id_image'].isna()]"
   ]
  },
  {
   "cell_type": "code",
   "execution_count": null,
   "metadata": {},
   "outputs": [],
   "source": [
    "t8_mgd.head()"
   ]
  },
  {
   "cell_type": "code",
   "execution_count": null,
   "metadata": {},
   "outputs": [],
   "source": [
    "t8_baseline.query('input_assay_id == 0')"
   ]
  },
  {
   "cell_type": "code",
   "execution_count": null,
   "metadata": {},
   "outputs": [],
   "source": [
    "t8_imagemodel.query('cont_classification_task_id == 3')"
   ]
  },
  {
   "cell_type": "code",
   "execution_count": null,
   "metadata": {},
   "outputs": [],
   "source": [
    "t8_imagemodel.query('input_assay_id == 0')"
   ]
  },
  {
   "cell_type": "code",
   "execution_count": null,
   "metadata": {},
   "outputs": [],
   "source": [
    "### some auxiliary thresholds will still be added in addition to the expert thresholds \n",
    "### therefore, not all of the image model tasks correspond to a baseline task "
   ]
  },
  {
   "cell_type": "code",
   "execution_count": null,
   "metadata": {},
   "outputs": [],
   "source": [
    "with open('../notebooks/mapping/image_iai_cont_map.json') as fp:\n",
    "    image_iai_cont_map = json.load(fp)"
   ]
  },
  {
   "cell_type": "code",
   "execution_count": null,
   "metadata": {},
   "outputs": [],
   "source": [
    "t8_mgd.columns"
   ]
  },
  {
   "cell_type": "code",
   "execution_count": null,
   "metadata": {},
   "outputs": [],
   "source": [
    "t8_mgd['baseline_compliant_input_assay_id_image'] = t8_mgd['cont_classification_task_id_image'].astype(int).astype(str).map(image_iai_cont_map)\n",
    "t8_mgd = t8_mgd[~t8_mgd['baseline_compliant_input_assay_id_image'].isna()]\n",
    "t8_mgd"
   ]
  },
  {
   "cell_type": "code",
   "execution_count": null,
   "metadata": {},
   "outputs": [],
   "source": [
    "t8_mgd.to_csv(\n",
    "    '../notebooks/mapping/baseline_image_model_task_mapping.csv'\n",
    "    ,index=False\n",
    ")"
   ]
  },
  {
   "cell_type": "code",
   "execution_count": null,
   "metadata": {},
   "outputs": [],
   "source": [
    "# now filter the baseline T10c on the iais which can actually be mapped from t8_mgd"
   ]
  },
  {
   "cell_type": "code",
   "execution_count": null,
   "metadata": {},
   "outputs": [],
   "source": [
    "t8_mgd[['input_assay_id','threshold']]"
   ]
  },
  {
   "cell_type": "code",
   "execution_count": null,
   "metadata": {},
   "outputs": [],
   "source": [
    "## retrieve the input compound ids from T5 "
   ]
  },
  {
   "cell_type": "code",
   "execution_count": null,
   "metadata": {},
   "outputs": [],
   "source": [
    "path = '/projects/melloddy/data/y2run_final/data_prep/y2_ext/y2_ext_noaux/results/T10c_cont.csv'\n",
    "t10c_baseline = pd.read_csv(path)\n",
    "path = '/projects/melloddy/data/y2run_final/data_prep/y2_ext/y2_ext_noaux/mapping_table/T5.csv'\n",
    "t5_baseline = pd.read_csv(path)"
   ]
  },
  {
   "cell_type": "code",
   "execution_count": null,
   "metadata": {},
   "outputs": [],
   "source": [
    "t10c_baseline.shape"
   ]
  },
  {
   "cell_type": "code",
   "execution_count": null,
   "metadata": {},
   "outputs": [],
   "source": [
    "# filter on relevant tasks "
   ]
  },
  {
   "cell_type": "code",
   "execution_count": null,
   "metadata": {},
   "outputs": [],
   "source": [
    "t10c_baseline_lim = pd.merge(\n",
    "    t10c_baseline\n",
    "    ,pd.merge(\n",
    "        t8_baseline\n",
    "        ,t8_mgd\n",
    "        ,on=['input_assay_id','threshold']\n",
    "        ,how='inner'\n",
    "    )\n",
    "    ,on='cont_classification_task_id'\n",
    "    ,how='inner'    \n",
    ")"
   ]
  },
  {
   "cell_type": "code",
   "execution_count": null,
   "metadata": {},
   "outputs": [],
   "source": [
    "t10c_baseline_lim.shape"
   ]
  },
  {
   "cell_type": "code",
   "execution_count": null,
   "metadata": {},
   "outputs": [],
   "source": [
    "t10c_baseline_lim.head()"
   ]
  },
  {
   "cell_type": "code",
   "execution_count": null,
   "metadata": {},
   "outputs": [],
   "source": [
    "t10c_baseline_lim2 = pd.merge(\n",
    "    t5_baseline[['input_compound_id','descriptor_vector_id']].drop_duplicates()\n",
    "    ,t10c_baseline_lim\n",
    "    ,on='descriptor_vector_id'\n",
    "    ,how='inner'\n",
    ")"
   ]
  },
  {
   "cell_type": "code",
   "execution_count": null,
   "metadata": {},
   "outputs": [],
   "source": [
    "t10c_baseline_lim2.head()"
   ]
  },
  {
   "cell_type": "code",
   "execution_count": null,
   "metadata": {},
   "outputs": [],
   "source": [
    "t10c_baseline_lim2.shape"
   ]
  },
  {
   "cell_type": "code",
   "execution_count": null,
   "metadata": {},
   "outputs": [],
   "source": [
    "t10c_baseline_lim2['standard_value'] = np.where(t10c_baseline_lim2['class_label'] == -1 , 0, 6)"
   ]
  },
  {
   "cell_type": "code",
   "execution_count": null,
   "metadata": {},
   "outputs": [],
   "source": [
    "t10c_baseline_lim2['standard_qualifier'] = '='"
   ]
  },
  {
   "cell_type": "code",
   "execution_count": null,
   "metadata": {},
   "outputs": [],
   "source": [
    "df_t1_truelabels_out = t10c_baseline_lim2[['baseline_compliant_input_assay_id_image','standard_value','standard_qualifier','input_compound_id']].drop_duplicates()"
   ]
  },
  {
   "cell_type": "code",
   "execution_count": null,
   "metadata": {},
   "outputs": [],
   "source": [
    "df_t1_truelabels_out.to_csv('../notebooks/aux_data/T1_image_truelabels.csv', index=False)"
   ]
  },
  {
   "cell_type": "code",
   "execution_count": null,
   "metadata": {},
   "outputs": [],
   "source": []
  },
  {
   "cell_type": "code",
   "execution_count": null,
   "metadata": {},
   "outputs": [],
   "source": [
    "df_t1_truelabels_out.head()"
   ]
  }
 ],
 "metadata": {
  "kernelspec": {
   "display_name": "Python [conda env:.conda-melloddy_pipeline]",
   "language": "python",
   "name": "conda-env-.conda-melloddy_pipeline-py"
  },
  "language_info": {
   "codemirror_mode": {
    "name": "ipython",
    "version": 3
   },
   "file_extension": ".py",
   "mimetype": "text/x-python",
   "name": "python",
   "nbconvert_exporter": "python",
   "pygments_lexer": "ipython3",
   "version": "3.8.2"
  }
 },
 "nbformat": 4,
 "nbformat_minor": 4
}
