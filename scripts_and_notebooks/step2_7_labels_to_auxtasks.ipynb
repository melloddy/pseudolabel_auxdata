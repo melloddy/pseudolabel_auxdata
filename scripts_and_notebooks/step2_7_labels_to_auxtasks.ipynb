{
 "cells": [
  {
   "cell_type": "code",
   "execution_count": null,
   "metadata": {},
   "outputs": [],
   "source": [
    "import numpy as np \n",
    "import pandas as pd \n",
    "from tqdm import tqdm\n",
    "import json \n",
    "from scipy.sparse import load_npz\n",
    "import os"
   ]
  },
  {
   "cell_type": "code",
   "execution_count": null,
   "metadata": {},
   "outputs": [],
   "source": [
    "# take the labels from the y matrix, then put them into T1 csv format in the aux tasks corresponding to the main tasks\n",
    "# in the next step/notebook we will join them together with the other data (melloddy/pseudolabels)"
   ]
  },
  {
   "cell_type": "code",
   "execution_count": null,
   "metadata": {},
   "outputs": [],
   "source": [
    "# challenge is to find the corresponding auxiliary task \n",
    "# cont_classification_task_id (baseline) -> iai + threshold -> cont_classification_task_id (image_model) -> melloddy_compatible iai"
   ]
  },
  {
   "cell_type": "code",
   "execution_count": null,
   "metadata": {},
   "outputs": [],
   "source": [
    "tuner_output_baseline = '../../data/Mellody_tuner/all/output_all/images_w_melloddy/'\n",
    "\n",
    "path = os.path.join(tuner_output_baseline, 'results_tmp/classification/T8c.csv')\n",
    "t8_baseline = pd.read_csv(path)\n",
    "t8_baseline['threshold'] = t8_baseline['threshold'].round(decimals=5)"
   ]
  },
  {
   "cell_type": "code",
   "execution_count": null,
   "metadata": {},
   "outputs": [],
   "source": [
    "tuner_output_images = '../datapreperation/images_files/output_files/image_model/'\n",
    "path = os.path.join(tuner_output_images, 'results_tmp/classification/T8c.csv')\n",
    "t8_imagemodel = pd.read_csv(path)\n",
    "t8_imagemodel['threshold'] = t8_imagemodel['threshold'].round(decimals=5)"
   ]
  },
  {
   "cell_type": "code",
   "execution_count": null,
   "metadata": {},
   "outputs": [],
   "source": []
  },
  {
   "cell_type": "code",
   "execution_count": null,
   "metadata": {},
   "outputs": [],
   "source": [
    "t8_mgd = pd.merge(\n",
    "    t8_imagemodel\n",
    "    ,t8_baseline\n",
    "    ,how='inner'\n",
    "    ,on=['input_assay_id','threshold']\n",
    "    ,suffixes=('_image','_baseline')\n",
    ")\n",
    "t8_mgd = t8_mgd[~t8_mgd['cont_classification_task_id_image'].isna()]"
   ]
  },
  {
   "cell_type": "code",
   "execution_count": null,
   "metadata": {},
   "outputs": [],
   "source": []
  },
  {
   "cell_type": "code",
   "execution_count": null,
   "metadata": {},
   "outputs": [],
   "source": [
    "### some auxiliary thresholds will still be added in addition to the expert thresholds \n",
    "### therefore, not all of the image model tasks correspond to a baseline task "
   ]
  },
  {
   "cell_type": "code",
   "execution_count": null,
   "metadata": {},
   "outputs": [],
   "source": [
    "with open('./files/mapping/image_cont_iai_to_new_iai.json') as fp:\n",
    "    image_cont_iai_to_new_iai = json.load(fp)"
   ]
  },
  {
   "cell_type": "code",
   "execution_count": null,
   "metadata": {},
   "outputs": [],
   "source": [
    "t8_mgd.columns"
   ]
  },
  {
   "cell_type": "code",
   "execution_count": null,
   "metadata": {
    "scrolled": true
   },
   "outputs": [],
   "source": [
    "t8_mgd['baseline_compliant_input_assay_id_image'] = t8_mgd['cont_classification_task_id_image'].astype(int).astype(str).map(image_cont_iai_to_new_iai)\n",
    "t8_mgd = t8_mgd[~t8_mgd['baseline_compliant_input_assay_id_image'].isna()]\n",
    "t8_mgd"
   ]
  },
  {
   "cell_type": "code",
   "execution_count": null,
   "metadata": {},
   "outputs": [],
   "source": [
    "t8_mgd.to_csv(\n",
    "    './files/mapping/baseline_image_model_task_mapping.csv'\n",
    "    ,index=False\n",
    ")"
   ]
  },
  {
   "cell_type": "code",
   "execution_count": null,
   "metadata": {},
   "outputs": [],
   "source": [
    "# now filter the baseline T10c on the iais which can actually be mapped from t8_mgd"
   ]
  },
  {
   "cell_type": "code",
   "execution_count": null,
   "metadata": {},
   "outputs": [],
   "source": [
    "## retrieve the input compound ids from T5 "
   ]
  },
  {
   "cell_type": "code",
   "execution_count": null,
   "metadata": {},
   "outputs": [],
   "source": [
    "tuner_output_baseline = '../../data/Mellody_tuner/all/output_all/images_w_melloddy'\n",
    "\n",
    "path = os.path.join(tuner_output_baseline, 'results/T10c_cont.csv')\n",
    "t10c_baseline = pd.read_csv(path)\n",
    "\n",
    "path = os.path.join(tuner_output_baseline, 'mapping_table/T5.csv')\n",
    "t5_baseline = pd.read_csv(path)"
   ]
  },
  {
   "cell_type": "code",
   "execution_count": null,
   "metadata": {},
   "outputs": [],
   "source": [
    "t10c_baseline.shape"
   ]
  },
  {
   "cell_type": "code",
   "execution_count": null,
   "metadata": {},
   "outputs": [],
   "source": [
    "# filter on relevant tasks "
   ]
  },
  {
   "cell_type": "code",
   "execution_count": null,
   "metadata": {},
   "outputs": [],
   "source": [
    "t10c_baseline_lim = pd.merge(\n",
    "    t10c_baseline\n",
    "    ,pd.merge(\n",
    "        t8_baseline\n",
    "        ,t8_mgd\n",
    "        ,on=['input_assay_id','threshold']\n",
    "        ,how='inner'\n",
    "    )\n",
    "    ,on='cont_classification_task_id'\n",
    "    ,how='inner'    \n",
    ")"
   ]
  },
  {
   "cell_type": "code",
   "execution_count": null,
   "metadata": {},
   "outputs": [],
   "source": [
    "t10c_baseline_lim.shape"
   ]
  },
  {
   "cell_type": "code",
   "execution_count": null,
   "metadata": {},
   "outputs": [],
   "source": [
    "t10c_baseline_lim.head()"
   ]
  },
  {
   "cell_type": "code",
   "execution_count": null,
   "metadata": {},
   "outputs": [],
   "source": [
    "t10c_baseline_lim2 = pd.merge(\n",
    "    t5_baseline[['input_compound_id','descriptor_vector_id']].drop_duplicates()\n",
    "    ,t10c_baseline_lim\n",
    "    ,on='descriptor_vector_id'\n",
    "    ,how='inner'\n",
    ")"
   ]
  },
  {
   "cell_type": "code",
   "execution_count": null,
   "metadata": {},
   "outputs": [],
   "source": [
    "t10c_baseline_lim2.head()"
   ]
  },
  {
   "cell_type": "code",
   "execution_count": null,
   "metadata": {},
   "outputs": [],
   "source": [
    "t10c_baseline_lim2.shape"
   ]
  },
  {
   "cell_type": "code",
   "execution_count": null,
   "metadata": {},
   "outputs": [],
   "source": [
    "t10c_baseline_lim2['standard_value'] = np.where(t10c_baseline_lim2['class_label'] == -1 , 0, 6)"
   ]
  },
  {
   "cell_type": "code",
   "execution_count": null,
   "metadata": {},
   "outputs": [],
   "source": [
    "t10c_baseline_lim2['standard_qualifier'] = '='"
   ]
  },
  {
   "cell_type": "code",
   "execution_count": null,
   "metadata": {},
   "outputs": [],
   "source": [
    "df_t1_truelabels_out = t10c_baseline_lim2[['baseline_compliant_input_assay_id_image','standard_value','standard_qualifier','input_compound_id']].drop_duplicates()"
   ]
  },
  {
   "cell_type": "code",
   "execution_count": null,
   "metadata": {},
   "outputs": [],
   "source": [
    "df_t1_truelabels_out.head()"
   ]
  },
  {
   "cell_type": "code",
   "execution_count": null,
   "metadata": {},
   "outputs": [],
   "source": [
    "df_t1_truelabels_out.to_csv('./files/aux_data/T1_image_truelabels.csv', index=False)"
   ]
  }
 ],
 "metadata": {
  "kernelspec": {
   "display_name": "Mellody Tuner",
   "language": "python",
   "name": "melloddy_tuner_regression"
  },
  "language_info": {
   "codemirror_mode": {
    "name": "ipython",
    "version": 3
   },
   "file_extension": ".py",
   "mimetype": "text/x-python",
   "name": "python",
   "nbconvert_exporter": "python",
   "pygments_lexer": "ipython3",
   "version": "3.6.11"
  }
 },
 "nbformat": 4,
 "nbformat_minor": 4
}
