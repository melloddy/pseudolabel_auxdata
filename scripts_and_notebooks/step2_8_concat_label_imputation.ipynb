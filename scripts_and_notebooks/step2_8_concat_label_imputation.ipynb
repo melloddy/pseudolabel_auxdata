{
 "cells": [
  {
   "cell_type": "code",
   "execution_count": null,
   "metadata": {},
   "outputs": [],
   "source": [
    "import numpy as np \n",
    "import pandas as pd \n",
    "from tqdm import tqdm\n",
    "import json "
   ]
  },
  {
   "cell_type": "code",
   "execution_count": null,
   "metadata": {},
   "outputs": [],
   "source": [
    "# strategy for imputation - concat in order, groupby, first"
   ]
  },
  {
   "cell_type": "code",
   "execution_count": null,
   "metadata": {},
   "outputs": [],
   "source": [
    "path = './aux_data/T0_image_pseudolabels_full.csv'\n",
    "t0_image = pd.read_csv(path)\n",
    "path = './aux_data/T1_image_pseudolabels_full.csv'\n",
    "t1_image = pd.read_csv(path)\n",
    "path = './aux_data/T2_image_pseudolabels_full.csv'\n",
    "t2_image = pd.read_csv(path)"
   ]
  },
  {
   "cell_type": "code",
   "execution_count": null,
   "metadata": {},
   "outputs": [],
   "source": [
    "path = '/projects/melloddy/data/y2run_final/out/T0_y2_noaux_ext.csv'\n",
    "t0_baseline = pd.read_csv(path)\n",
    "path = '/projects/melloddy/data/y2run_final/out/T1_y2_noaux_ext.csv'\n",
    "t1_baseline = pd.read_csv(path)\n",
    "path = '/projects/melloddy/data/y2run_final/out/T2_y2_noaux_ext.csv'\n",
    "t2_baseline = pd.read_csv(path)"
   ]
  },
  {
   "cell_type": "code",
   "execution_count": null,
   "metadata": {},
   "outputs": [],
   "source": [
    "path = './aux_data/T1_image_truelabels.csv'\n",
    "t1_image_true = pd.read_csv(path)"
   ]
  },
  {
   "cell_type": "code",
   "execution_count": null,
   "metadata": {},
   "outputs": [],
   "source": [
    "t0_out = pd.concat([t0_baseline,t0_image])"
   ]
  },
  {
   "cell_type": "code",
   "execution_count": null,
   "metadata": {},
   "outputs": [],
   "source": [
    "t2_out = pd.concat([t2_baseline,t2_image])"
   ]
  },
  {
   "cell_type": "code",
   "execution_count": null,
   "metadata": {},
   "outputs": [],
   "source": [
    "t2_baseline.shape"
   ]
  },
  {
   "cell_type": "code",
   "execution_count": null,
   "metadata": {},
   "outputs": [],
   "source": [
    "t2_image.shape"
   ]
  },
  {
   "cell_type": "code",
   "execution_count": null,
   "metadata": {},
   "outputs": [],
   "source": [
    "t2_baseline.shape[0] + t2_image.shape[0]"
   ]
  },
  {
   "cell_type": "code",
   "execution_count": null,
   "metadata": {},
   "outputs": [],
   "source": [
    "t2_out.shape"
   ]
  },
  {
   "cell_type": "code",
   "execution_count": null,
   "metadata": {},
   "outputs": [],
   "source": [
    "t2_out = t2_out.groupby(by='input_compound_id').first()"
   ]
  },
  {
   "cell_type": "code",
   "execution_count": null,
   "metadata": {},
   "outputs": [],
   "source": []
  },
  {
   "cell_type": "code",
   "execution_count": null,
   "metadata": {},
   "outputs": [],
   "source": [
    "t1_concat_out = pd.concat([\n",
    "    t1_image_true.rename(columns={'baseline_compliant_input_assay_id_image':'input_assay_id'})\n",
    "    ,t1_baseline\n",
    "    ,t1_image\n",
    "                                                ])"
   ]
  },
  {
   "cell_type": "code",
   "execution_count": null,
   "metadata": {},
   "outputs": [],
   "source": [
    "t1_concat_out"
   ]
  },
  {
   "cell_type": "code",
   "execution_count": null,
   "metadata": {},
   "outputs": [],
   "source": [
    "t1_out = t1_concat_out.groupby(by=['input_compound_id','input_assay_id']).first()"
   ]
  },
  {
   "cell_type": "code",
   "execution_count": null,
   "metadata": {},
   "outputs": [],
   "source": [
    "t1_out.shape"
   ]
  },
  {
   "cell_type": "code",
   "execution_count": null,
   "metadata": {},
   "outputs": [],
   "source": [
    "t1_baseline.shape"
   ]
  },
  {
   "cell_type": "code",
   "execution_count": null,
   "metadata": {},
   "outputs": [],
   "source": [
    "t1_image.shape"
   ]
  },
  {
   "cell_type": "code",
   "execution_count": null,
   "metadata": {},
   "outputs": [],
   "source": [
    "t1_image_true.shape"
   ]
  },
  {
   "cell_type": "code",
   "execution_count": null,
   "metadata": {},
   "outputs": [],
   "source": [
    "(-t1_out.shape[0] + t1_baseline.shape[0] + t1_image.shape[0] + t1_image_true.shape[0])"
   ]
  },
  {
   "cell_type": "code",
   "execution_count": null,
   "metadata": {},
   "outputs": [],
   "source": [
    "(-t1_out.shape[0] + t1_baseline.shape[0] + t1_image.shape[0] + t1_image_true.shape[0]) / t1_image_true.shape[0]"
   ]
  },
  {
   "cell_type": "code",
   "execution_count": null,
   "metadata": {},
   "outputs": [],
   "source": [
    "t0_out.to_csv('./aux_data/baseline_plus_aux_data/T0_image_pseudolabels_plus_baseline.csv',index=False)"
   ]
  },
  {
   "cell_type": "code",
   "execution_count": null,
   "metadata": {
    "scrolled": true
   },
   "outputs": [],
   "source": [
    "t1_out.reset_index().to_csv('./aux_data/baseline_plus_aux_data/T1_image_pseudolabels_plus_baseline.csv',index=False)"
   ]
  },
  {
   "cell_type": "code",
   "execution_count": null,
   "metadata": {},
   "outputs": [],
   "source": []
  },
  {
   "cell_type": "code",
   "execution_count": null,
   "metadata": {},
   "outputs": [],
   "source": [
    "len(list(t2_out.reset_index().input_compound_id.unique())), len(list(t1_out.reset_index().input_compound_id.unique())) \n"
   ]
  },
  {
   "cell_type": "code",
   "execution_count": null,
   "metadata": {},
   "outputs": [],
   "source": [
    "t2_indexes =  t2_out.reset_index().input_compound_id.unique()\n",
    "t1_indexes = t1_out.reset_index().input_compound_id.unique()"
   ]
  },
  {
   "cell_type": "code",
   "execution_count": null,
   "metadata": {
    "scrolled": true
   },
   "outputs": [],
   "source": [
    "l = [i for i in t2_indexes if i not in t1_indexes]\n",
    "l\n"
   ]
  },
  {
   "cell_type": "code",
   "execution_count": null,
   "metadata": {},
   "outputs": [],
   "source": [
    "t2_out_filtered = t2_out.reset_index()[~t2_out.reset_index()['input_compound_id'].isin(l)]"
   ]
  },
  {
   "cell_type": "code",
   "execution_count": null,
   "metadata": {},
   "outputs": [],
   "source": [
    "t2_out_filtered.to_csv('./aux_data/baseline_plus_aux_data/T2_image_pseudolabels_plus_baseline.csv',index=False)\n",
    "\n"
   ]
  }
 ],
 "metadata": {
  "kernelspec": {
   "display_name": "Python [conda env:.conda-melloddy_pipeline]",
   "language": "python",
   "name": "conda-env-.conda-melloddy_pipeline-py"
  },
  "language_info": {
   "codemirror_mode": {
    "name": "ipython",
    "version": 3
   },
   "file_extension": ".py",
   "mimetype": "text/x-python",
   "name": "python",
   "nbconvert_exporter": "python",
   "pygments_lexer": "ipython3",
   "version": "3.8.2"
  }
 },
 "nbformat": 4,
 "nbformat_minor": 4
}
