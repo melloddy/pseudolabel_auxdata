{
 "cells": [
  {
   "cell_type": "code",
   "execution_count": null,
   "metadata": {},
   "outputs": [],
   "source": [
    "import numpy as np \n",
    "import pandas as pd \n",
    "from tqdm import tqdm\n",
    "import json \n",
    "import os"
   ]
  },
  {
   "cell_type": "code",
   "execution_count": null,
   "metadata": {},
   "outputs": [],
   "source": [
    "# strategy for imputation - concat in order, groupby, first"
   ]
  },
  {
   "cell_type": "code",
   "execution_count": null,
   "metadata": {},
   "outputs": [],
   "source": [
    "path = './files/aux_data/T0_image_pseudolabels_full.csv'\n",
    "t0_image = pd.read_csv(path)\n",
    "path = './files/aux_data/T1_image_pseudolabels_full.csv'\n",
    "t1_image = pd.read_csv(path)\n",
    "path = './files/aux_data/T2_image_pseudolabels_full.csv'\n",
    "t2_image = pd.read_csv(path)"
   ]
  },
  {
   "cell_type": "code",
   "execution_count": null,
   "metadata": {},
   "outputs": [],
   "source": [
    "tuner_input_baseline = '../../data/Mellody_tuner/all/input_all/'\n",
    "\n",
    "path = os.path.join(tuner_input_baseline, 'T0.csv')\n",
    "t0_baseline = pd.read_csv(path)\n",
    "path = os.path.join(tuner_input_baseline, 'T1.csv')\n",
    "t1_baseline = pd.read_csv(path)\n",
    "path =os.path.join(tuner_input_baseline, 'T2.csv')\n",
    "t2_baseline = pd.read_csv(path)"
   ]
  },
  {
   "cell_type": "code",
   "execution_count": null,
   "metadata": {},
   "outputs": [],
   "source": [
    "path = './files/aux_data/T1_image_truelabels.csv'\n",
    "t1_image_true = pd.read_csv(path)"
   ]
  },
  {
   "cell_type": "code",
   "execution_count": null,
   "metadata": {},
   "outputs": [],
   "source": [
    "t0_out = pd.concat([t0_baseline,t0_image])"
   ]
  },
  {
   "cell_type": "code",
   "execution_count": null,
   "metadata": {},
   "outputs": [],
   "source": [
    "t2_out = pd.concat([t2_baseline,t2_image])"
   ]
  },
  {
   "cell_type": "code",
   "execution_count": null,
   "metadata": {},
   "outputs": [],
   "source": [
    "print(f'T2 baseline : {t2_baseline.shape}')\n",
    "print(f'T2 images   : {t2_image.shape}')\n",
    "print(f'T2 all      : {t2_out.shape}')"
   ]
  },
  {
   "cell_type": "code",
   "execution_count": null,
   "metadata": {},
   "outputs": [],
   "source": [
    "t2_out = t2_out.groupby(by='input_compound_id').first()"
   ]
  },
  {
   "cell_type": "code",
   "execution_count": null,
   "metadata": {},
   "outputs": [],
   "source": [
    "print(f'T2 all after removing input_compound_id duplicates: {t2_out.shape}')"
   ]
  },
  {
   "cell_type": "code",
   "execution_count": null,
   "metadata": {},
   "outputs": [],
   "source": [
    "t1_baseline"
   ]
  },
  {
   "cell_type": "code",
   "execution_count": null,
   "metadata": {},
   "outputs": [],
   "source": [
    "t1_images_preds_w_true = pd.concat([\n",
    "    t1_image_true.rename(columns={'baseline_compliant_input_assay_id_image':'input_assay_id'})\n",
    "    ,t1_image])"
   ]
  },
  {
   "cell_type": "code",
   "execution_count": null,
   "metadata": {},
   "outputs": [],
   "source": [
    "t1_images_preds_w_true = t1_images_preds_w_true.groupby(by=['input_compound_id','input_assay_id']).first()"
   ]
  },
  {
   "cell_type": "code",
   "execution_count": null,
   "metadata": {},
   "outputs": [],
   "source": [
    "t1_out = pd.concat([\n",
    "    t1_baseline,\n",
    "    t1_images_preds_w_true\n",
    "])"
   ]
  },
  {
   "cell_type": "code",
   "execution_count": null,
   "metadata": {},
   "outputs": [],
   "source": [
    "print(f'T1 baseline    : {t1_baseline.shape}')\n",
    "print(f'T1 images      : {t1_image.shape}')\n",
    "print(f'T1 true labels : {t1_image_true.shape}')\n",
    "print(f'T1 all         : {t1_out.shape}')"
   ]
  },
  {
   "cell_type": "code",
   "execution_count": null,
   "metadata": {},
   "outputs": [],
   "source": [
    "(-t1_out.shape[0] + t1_baseline.shape[0] + t1_image.shape[0] + t1_image_true.shape[0])"
   ]
  },
  {
   "cell_type": "code",
   "execution_count": null,
   "metadata": {},
   "outputs": [],
   "source": [
    "(-t1_out.shape[0] + t1_baseline.shape[0] + t1_image.shape[0] + t1_image_true.shape[0]) / t1_image_true.shape[0]"
   ]
  },
  {
   "cell_type": "code",
   "execution_count": null,
   "metadata": {},
   "outputs": [],
   "source": [
    "os.makedirs('./files/baseline_plus_aux_data', exist_ok=True)"
   ]
  },
  {
   "cell_type": "code",
   "execution_count": null,
   "metadata": {},
   "outputs": [],
   "source": [
    "t0_out.to_csv('./files/baseline_plus_aux_data/T0_image_pseudolabels_plus_baseline.csv',index=False)"
   ]
  },
  {
   "cell_type": "code",
   "execution_count": null,
   "metadata": {
    "scrolled": true
   },
   "outputs": [],
   "source": [
    "t1_out.to_csv('./files/baseline_plus_aux_data/T1_image_pseudolabels_plus_baseline.csv',index=False)"
   ]
  },
  {
   "cell_type": "code",
   "execution_count": null,
   "metadata": {},
   "outputs": [],
   "source": []
  },
  {
   "cell_type": "code",
   "execution_count": null,
   "metadata": {},
   "outputs": [],
   "source": [
    "len(list(t2_out.reset_index().input_compound_id.unique())), len(list(t1_out.reset_index().input_compound_id.unique())) \n"
   ]
  },
  {
   "cell_type": "code",
   "execution_count": null,
   "metadata": {},
   "outputs": [],
   "source": [
    "t2_indexes =  t2_out.reset_index().input_compound_id.unique()\n",
    "t1_indexes = t1_out.reset_index().input_compound_id.unique()"
   ]
  },
  {
   "cell_type": "code",
   "execution_count": null,
   "metadata": {
    "scrolled": true
   },
   "outputs": [],
   "source": [
    "l = [i for i in t2_indexes if i not in t1_indexes]\n",
    "len(l)\n"
   ]
  },
  {
   "cell_type": "code",
   "execution_count": null,
   "metadata": {},
   "outputs": [],
   "source": [
    "t2_out_filtered = t2_out.reset_index()[~t2_out.reset_index()['input_compound_id'].isin(l)]"
   ]
  },
  {
   "cell_type": "code",
   "execution_count": null,
   "metadata": {},
   "outputs": [],
   "source": [
    "t2_out_filtered.to_csv('./files/baseline_plus_aux_data/T2_image_pseudolabels_plus_baseline.csv',index=False)\n",
    "\n"
   ]
  }
 ],
 "metadata": {
  "kernelspec": {
   "display_name": "Mellody Tuner",
   "language": "python",
   "name": "melloddy_tuner_regression"
  },
  "language_info": {
   "codemirror_mode": {
    "name": "ipython",
    "version": 3
   },
   "file_extension": ".py",
   "mimetype": "text/x-python",
   "name": "python",
   "nbconvert_exporter": "python",
   "pygments_lexer": "ipython3",
   "version": "3.6.11"
  }
 },
 "nbformat": 4,
 "nbformat_minor": 4
}
