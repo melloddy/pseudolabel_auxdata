{
 "cells": [
  {
   "cell_type": "raw",
   "metadata": {},
   "source": [
    "idea : \n",
    "\n",
    "Thresholds of tasks need to be synchronized between the main and auxiliary (=pseudolabel) tasks in order for them to be comparable. Otherwise, the pseudolabels would not be maximally informative for the main tasks. \n",
    "\n",
    "Tuner : \n",
    "Tuner creates the thresholds dynamically, based on the fixed adaptive scheme (20%). \n",
    "Given that the fraction of imaged compounds is <<1, this yields different thresholds for the step1 image model vs the baseline and baseline+aux models. \n",
    "\n",
    "Solution : \n",
    "Based on the baseline model thresholds, define the expert thresholds for the image-based model in step 1. \n"
   ]
  },
  {
   "cell_type": "raw",
   "metadata": {},
   "source": [
    "code should be executed after the T0-file csv tuner input creation for the step1 image model\n",
    "and will modify this file prior to processing with tuner"
   ]
  },
  {
   "cell_type": "code",
   "execution_count": 2,
   "metadata": {},
   "outputs": [],
   "source": [
    "import pandas as pd "
   ]
  },
  {
   "cell_type": "code",
   "execution_count": 85,
   "metadata": {},
   "outputs": [],
   "source": [
    "# baseline tuner t8 file \n",
    "path_t8 = '/projects/melloddy/data/y2run_final/data_prep/y2_ext/y2_ext_noaux/results_tmp/classification/T8c.csv'\n",
    "t8 = pd.read_csv(path_t8)\n",
    "\n",
    "# T0-file csv tuner input creation for the step1 image model\n",
    "path_t0 = '/projects/home/wheyndri/research/wp1_imageauxdata/12_y3_imageaux_study/data/y2_ext_with_image/T0_with_image.csv'\n",
    "t0 = pd.read_csv(path_t0)"
   ]
  },
  {
   "cell_type": "code",
   "execution_count": 79,
   "metadata": {},
   "outputs": [],
   "source": [
    "t8 = t8[['input_assay_id','threshold','threshold_method']]"
   ]
  },
  {
   "cell_type": "code",
   "execution_count": 80,
   "metadata": {},
   "outputs": [],
   "source": [
    "t8['subgroup_index'] = t8.groupby('input_assay_id').cumcount()"
   ]
  },
  {
   "cell_type": "code",
   "execution_count": 82,
   "metadata": {},
   "outputs": [],
   "source": [
    "df = pd.pivot_table(\n",
    "    t8.drop_duplicates()\n",
    "    ,columns=['subgroup_index']\n",
    "    ,values=['threshold']\n",
    "    ,index=['input_assay_id']\n",
    ")\n",
    "df.columns = df.columns.map(lambda x: '_'.join([*map(str, x)]))\n"
   ]
  },
  {
   "cell_type": "code",
   "execution_count": null,
   "metadata": {},
   "outputs": [],
   "source": [
    "# matching this to the t0 thresholds"
   ]
  },
  {
   "cell_type": "code",
   "execution_count": null,
   "metadata": {},
   "outputs": [],
   "source": [
    "threshold_cols = ['expert_threshold_1','expert_threshold_2','expert_threshold_3','expert_threshold_4','expert_threshold_5']\n",
    "t0_out = pd.merge(\n",
    "    t0.drop(columns=threshold_cols)\n",
    "    ,df\n",
    "    ,how='inner'\n",
    "    ,on='input_assay_id'\n",
    ")"
   ]
  },
  {
   "cell_type": "raw",
   "metadata": {},
   "source": [
    "t0_out should replace the T0-file csv tuner input creation for the step1 image model"
   ]
  },
  {
   "cell_type": "code",
   "execution_count": null,
   "metadata": {},
   "outputs": [],
   "source": []
  }
 ],
 "metadata": {
  "kernelspec": {
   "display_name": "Python [conda env:python36]",
   "language": "python",
   "name": "conda-env-python36-py"
  },
  "language_info": {
   "codemirror_mode": {
    "name": "ipython",
    "version": 3
   },
   "file_extension": ".py",
   "mimetype": "text/x-python",
   "name": "python",
   "nbconvert_exporter": "python",
   "pygments_lexer": "ipython3",
   "version": "3.6.10"
  }
 },
 "nbformat": 4,
 "nbformat_minor": 4
}
