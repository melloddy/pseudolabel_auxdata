{
 "cells": [
  {
   "cell_type": "code",
   "execution_count": 3,
   "metadata": {},
   "outputs": [],
   "source": [
    "from scipy.sparse import csr_matrix, lil_matrix, load_npz, save_npz, hstack, coo_matrix\n",
    "import numpy as np \n",
    "import pandas as pd \n",
    "from tqdm import tqdm \n",
    "import os"
   ]
  },
  {
   "cell_type": "code",
   "execution_count": 10,
   "metadata": {},
   "outputs": [
    {
     "data": {
      "text/plain": [
       "0      688128\n",
       "1      688128\n",
       "2      688141\n",
       "3      688141\n",
       "4      688155\n",
       "5      688157\n",
       "6      688157\n",
       "7      688170\n",
       "8      688171\n",
       "9      688238\n",
       "10     688238\n",
       "11     688267\n",
       "12     688282\n",
       "13     688360\n",
       "14     688422\n",
       "15     688422\n",
       "16     688422\n",
       "17     688493\n",
       "18     688493\n",
       "19     688497\n",
       "20     688497\n",
       "21     688571\n",
       "22     688585\n",
       "23     688612\n",
       "24     688620\n",
       "25     688620\n",
       "26     688620\n",
       "27     688641\n",
       "28     688687\n",
       "29     688721\n",
       "30     688739\n",
       "31     688739\n",
       "32     688739\n",
       "33     688759\n",
       "34     688759\n",
       "35     688759\n",
       "36     688779\n",
       "37     688791\n",
       "38     688812\n",
       "39     688816\n",
       "40     688816\n",
       "41     688889\n",
       "42     736947\n",
       "43     737344\n",
       "44     737823\n",
       "45     752407\n",
       "46     752434\n",
       "47     752590\n",
       "48     752594\n",
       "49     845169\n",
       "50     845177\n",
       "51    1495346\n",
       "52    4000023\n",
       "53    4000024\n",
       "54    4000026\n",
       "Name: input_assay_id, dtype: int64"
      ]
     },
     "execution_count": 10,
     "metadata": {},
     "output_type": "execute_result"
    }
   ],
   "source": [
    "df_cp_mgd['input_assay_id']"
   ]
  },
  {
   "cell_type": "code",
   "execution_count": 6,
   "metadata": {},
   "outputs": [
    {
     "data": {
      "text/plain": [
       "0      544.0\n",
       "1      545.0\n",
       "2      548.0\n",
       "3      549.0\n",
       "4      558.0\n",
       "5      561.0\n",
       "6      562.0\n",
       "7      569.0\n",
       "8      572.0\n",
       "9      609.0\n",
       "10     610.0\n",
       "11     631.0\n",
       "12     639.0\n",
       "13     698.0\n",
       "14     728.0\n",
       "15     729.0\n",
       "16     730.0\n",
       "17     765.0\n",
       "18     766.0\n",
       "19     770.0\n",
       "20     771.0\n",
       "21     802.0\n",
       "22     807.0\n",
       "23     822.0\n",
       "24     831.0\n",
       "25     832.0\n",
       "26     833.0\n",
       "27     869.0\n",
       "28     888.0\n",
       "29     900.0\n",
       "30     901.0\n",
       "31     902.0\n",
       "32     915.0\n",
       "33     916.0\n",
       "34     917.0\n",
       "35     927.0\n",
       "36     934.0\n",
       "37     947.0\n",
       "38     949.0\n",
       "39     950.0\n",
       "40     972.0\n",
       "41    1011.0\n",
       "42    1106.0\n",
       "43    1168.0\n",
       "44    1212.0\n",
       "45    1214.0\n",
       "46    1256.0\n",
       "47    1260.0\n",
       "48    1708.0\n",
       "49    1710.0\n",
       "50    1898.0\n",
       "51    2941.0\n",
       "52    2942.0\n",
       "53    2944.0\n",
       "Name: cont_classification_task_id, dtype: float64"
      ]
     },
     "metadata": {},
     "output_type": "display_data"
    },
    {
     "data": {
      "text/plain": [
       "0      544.0\n",
       "1      545.0\n",
       "2      548.0\n",
       "3      549.0\n",
       "4      558.0\n",
       "5      561.0\n",
       "6      562.0\n",
       "7      569.0\n",
       "8      572.0\n",
       "9      609.0\n",
       "10     610.0\n",
       "11     631.0\n",
       "12     639.0\n",
       "13     698.0\n",
       "14     728.0\n",
       "15     729.0\n",
       "16     730.0\n",
       "17     765.0\n",
       "18     766.0\n",
       "19     770.0\n",
       "20     771.0\n",
       "21     802.0\n",
       "22     807.0\n",
       "23     822.0\n",
       "24     831.0\n",
       "25     832.0\n",
       "26     833.0\n",
       "27     869.0\n",
       "28     888.0\n",
       "29     900.0\n",
       "30     901.0\n",
       "31     902.0\n",
       "32     915.0\n",
       "33     916.0\n",
       "34     917.0\n",
       "35     927.0\n",
       "36     934.0\n",
       "37     947.0\n",
       "38     949.0\n",
       "39     950.0\n",
       "40     972.0\n",
       "41    1011.0\n",
       "42    1106.0\n",
       "43    1168.0\n",
       "44    1212.0\n",
       "45    1214.0\n",
       "46    1256.0\n",
       "47    1260.0\n",
       "48    1708.0\n",
       "49    1710.0\n",
       "50    1898.0\n",
       "51    2941.0\n",
       "52    2942.0\n",
       "53    2944.0\n",
       "Name: cont_classification_task_id_baseline, dtype: float64"
      ]
     },
     "metadata": {},
     "output_type": "display_data"
    }
   ],
   "source": [
    "path = '../aux_data_preperation/baseline_plus_aux_data/results_tmp/classification/T8c.csv'\n",
    "t8c = pd.read_csv(path)\n",
    "\n",
    "path = '../analysis/cp/summary_eps_0.05_mgd_cp.csv'\n",
    "df_cp_mgd = pd.read_csv(path)\n",
    "\n",
    "df_matching = pd.merge(\n",
    "    df_cp_mgd\n",
    "    ,t8c\n",
    "    ,on=['input_assay_id','threshold']\n",
    "    ,how='inner'\n",
    "    ,suffixes=('_image','_baselineaux')\n",
    ")\n",
    "\n",
    "# main tasks \n",
    "# mind the difference between these two !\n",
    "# cont_classification_task_id is the baseline + aux model \n",
    "display(df_matching.query('validity_0 >= 0').query('validity_1 >= 0')['cont_classification_task_id'])\n",
    "display(df_matching.query('validity_0 >= 0').query('validity_1 >= 0')['cont_classification_task_id_baseline'])"
   ]
  },
  {
   "cell_type": "code",
   "execution_count": null,
   "metadata": {},
   "outputs": [],
   "source": [
    "tuner_output_baseline_w_aux = '../aux_data_preperation/baseline_plus_aux_data/'\n",
    "\n",
    "path = os.path.join(tuner_output_baseline_w_aux, 'matrices/cls/cls_T10_y.npz')\n",
    "y_aux = load_npz(path)\n",
    "y_aux"
   ]
  },
  {
   "cell_type": "code",
   "execution_count": null,
   "metadata": {},
   "outputs": [],
   "source": [
    "y_sparse_main_fold0 = lil_matrix(y_aux.shape)"
   ]
  },
  {
   "cell_type": "code",
   "execution_count": null,
   "metadata": {},
   "outputs": [],
   "source": [
    "# Generate the y-sparse matrix for inference \n",
    "# Main tasks + fold 0 to limit the amount of predictions"
   ]
  },
  {
   "cell_type": "code",
   "execution_count": null,
   "metadata": {},
   "outputs": [],
   "source": [
    "path = os.path.join(tuner_output_baseline_w_aux, 'matrices/cls/cls_T11_fold_vector.npy')\n",
    "folds = np.load(path)"
   ]
  },
  {
   "cell_type": "code",
   "execution_count": null,
   "metadata": {},
   "outputs": [],
   "source": []
  },
  {
   "cell_type": "code",
   "execution_count": 7,
   "metadata": {},
   "outputs": [],
   "source": [
    "path = './files/mapping/baseline_image_model_baselineaux_task_mapping.csv'\n",
    "df_matching = pd.read_csv(path)"
   ]
  },
  {
   "cell_type": "code",
   "execution_count": 9,
   "metadata": {},
   "outputs": [
    {
     "data": {
      "text/plain": [
       "0     2950.0\n",
       "1     2951.0\n",
       "2        NaN\n",
       "3     2952.0\n",
       "4        NaN\n",
       "5     2953.0\n",
       "6     2954.0\n",
       "7     2955.0\n",
       "8     2956.0\n",
       "9     2957.0\n",
       "10    2958.0\n",
       "11    2959.0\n",
       "12       NaN\n",
       "13    2960.0\n",
       "14       NaN\n",
       "15    2961.0\n",
       "16    2962.0\n",
       "17    2963.0\n",
       "18    2964.0\n",
       "19       NaN\n",
       "20    2965.0\n",
       "21    2966.0\n",
       "22    2967.0\n",
       "23    2968.0\n",
       "24       NaN\n",
       "25    2969.0\n",
       "26    2970.0\n",
       "27       NaN\n",
       "28       NaN\n",
       "29    2971.0\n",
       "30       NaN\n",
       "31    2972.0\n",
       "32    2973.0\n",
       "33       NaN\n",
       "34    2974.0\n",
       "35    2975.0\n",
       "36    2976.0\n",
       "37    2977.0\n",
       "38    2978.0\n",
       "39    2979.0\n",
       "40    2980.0\n",
       "41       NaN\n",
       "42       NaN\n",
       "43       NaN\n",
       "44       NaN\n",
       "45       NaN\n",
       "46       NaN\n",
       "47       NaN\n",
       "48       NaN\n",
       "49       NaN\n",
       "50       NaN\n",
       "51       NaN\n",
       "52       NaN\n",
       "53       NaN\n",
       "54       NaN\n",
       "Name: cont_classification_task_id, dtype: float64"
      ]
     },
     "metadata": {},
     "output_type": "display_data"
    },
    {
     "data": {
      "text/plain": [
       "0      544.0\n",
       "1      545.0\n",
       "2      548.0\n",
       "3      549.0\n",
       "4      558.0\n",
       "5      561.0\n",
       "6      562.0\n",
       "7      569.0\n",
       "8      572.0\n",
       "9      609.0\n",
       "10     610.0\n",
       "11     631.0\n",
       "12     639.0\n",
       "13     698.0\n",
       "14     728.0\n",
       "15     729.0\n",
       "16     730.0\n",
       "17     765.0\n",
       "18     766.0\n",
       "19     770.0\n",
       "20     771.0\n",
       "21     802.0\n",
       "22     807.0\n",
       "23     822.0\n",
       "24     831.0\n",
       "25     832.0\n",
       "26     833.0\n",
       "27     839.0\n",
       "28     869.0\n",
       "29     888.0\n",
       "30     900.0\n",
       "31     901.0\n",
       "32     902.0\n",
       "33     915.0\n",
       "34     916.0\n",
       "35     917.0\n",
       "36     927.0\n",
       "37     934.0\n",
       "38     947.0\n",
       "39     949.0\n",
       "40     950.0\n",
       "41     972.0\n",
       "42    1011.0\n",
       "43    1106.0\n",
       "44    1168.0\n",
       "45    1212.0\n",
       "46    1214.0\n",
       "47    1256.0\n",
       "48    1260.0\n",
       "49    1708.0\n",
       "50    1710.0\n",
       "51    1898.0\n",
       "52    2941.0\n",
       "53    2942.0\n",
       "54    2944.0\n",
       "Name: cont_classification_task_id_baseline, dtype: float64"
      ]
     },
     "metadata": {},
     "output_type": "display_data"
    }
   ],
   "source": [
    "# main tasks \n",
    "# mind the difference between these two !\n",
    "# cont_classification_task_id is the baseline + aux model \n",
    "display(df_matching.query('validity_0 >= 0').query('validity_1 >= 0')['cont_classification_task_id'])\n",
    "display(df_matching.query('validity_0 >= 0').query('validity_1 >= 0')['cont_classification_task_id_baseline'])"
   ]
  },
  {
   "cell_type": "code",
   "execution_count": null,
   "metadata": {},
   "outputs": [],
   "source": [
    "lst = [0\n",
    "       ,0.2\n",
    "       ,0.4\n",
    "       ,0.5\n",
    "       ,0.6\n",
    "       ,0.7\n",
    "       ,0.8\n",
    "       ,0.9\n",
    "       ,0.95\n",
    "       ,0.99\n",
    "      ]"
   ]
  },
  {
   "cell_type": "code",
   "execution_count": null,
   "metadata": {},
   "outputs": [],
   "source": [
    "for i,l1 in tqdm(enumerate(lst)):\n",
    "    l2 = l1\n",
    "    print(df_matching.query('validity_0 > @l1').query('validity_1 > @l2')['cont_classification_task_id_baseline'].nunique())"
   ]
  },
  {
   "cell_type": "code",
   "execution_count": null,
   "metadata": {},
   "outputs": [],
   "source": [
    "base_path = '../aux_data_preperation/baseline_plus_aux_data/matrices/cls/fold_0'\n",
    "os.makedirs(base_path, exist_ok=True)\n"
   ]
  },
  {
   "cell_type": "code",
   "execution_count": null,
   "metadata": {
    "scrolled": true
   },
   "outputs": [],
   "source": [
    "# new approach : for inference, only consider the main tasks that correspond to aux tasks meeting the criteria \n",
    "# instead of one general sparse y matrix \n",
    "\n",
    "\n",
    "for i,l1 in tqdm(enumerate(lst)):\n",
    "    y_sparse_main_fold0 = lil_matrix(y_aux.shape)\n",
    "    l2 = l1\n",
    "    #for j,l2 in enumerate(lst): \n",
    "    file_core = 'ppv{}_npv{}'.format(l1,l2).replace('.','_')\n",
    "    col_idxs = set(df_matching.query('validity_0 > @l1').query('validity_1 > @l2')['cont_classification_task_id_baseline'].dropna())\n",
    "    for col in col_idxs :\n",
    "        y_sparse_main_fold0[folds == 0,col] = 1\n",
    "    path = os.path.join(base_path, 'y_sparse_main_tasks_fold0_{}'.format(file_core))\n",
    "    save_npz(path,csr_matrix(y_sparse_main_fold0))"
   ]
  },
  {
   "cell_type": "code",
   "execution_count": null,
   "metadata": {},
   "outputs": [],
   "source": [
    "y_sparse_main_fold0 = lil_matrix(y_aux.shape)\n",
    "\n",
    "col_idxs = set(df_matching['cont_classification_task_id_baseline'])\n",
    "for col in col_idxs :\n",
    "    y_sparse_main_fold0[folds == 0,col] = 1\n",
    "path = os.path.join(base_path, 'y_sparse_main_tasks_fold0_baseline.npz')\n",
    "save_npz(path,csr_matrix(y_sparse_main_fold0))"
   ]
  }
 ],
 "metadata": {
  "kernelspec": {
   "display_name": "Mellody Tuner",
   "language": "python",
   "name": "melloddy_tuner_regression"
  },
  "language_info": {
   "codemirror_mode": {
    "name": "ipython",
    "version": 3
   },
   "file_extension": ".py",
   "mimetype": "text/x-python",
   "name": "python",
   "nbconvert_exporter": "python",
   "pygments_lexer": "ipython3",
   "version": "3.6.11"
  }
 },
 "nbformat": 4,
 "nbformat_minor": 4
}
