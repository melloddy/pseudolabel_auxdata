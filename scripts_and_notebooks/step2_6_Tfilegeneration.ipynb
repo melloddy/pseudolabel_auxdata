{
 "cells": [
  {
   "cell_type": "code",
   "execution_count": null,
   "metadata": {},
   "outputs": [],
   "source": [
    "import numpy as np \n",
    "import pandas as pd \n",
    "import json \n",
    "import os"
   ]
  },
  {
   "cell_type": "code",
   "execution_count": null,
   "metadata": {},
   "outputs": [],
   "source": [
    "# add labels \n",
    "# integerization of compound id \n",
    "# integerization and mapping of the assay id \n",
    "# T2, T0 creation \n",
    "# --- "
   ]
  },
  {
   "cell_type": "code",
   "execution_count": null,
   "metadata": {},
   "outputs": [],
   "source": [
    "t1 = pd.read_csv('./files/image_pseudolabel_aux_nolabels/T1_image_pseudolabel_aux_nolabels.csv')"
   ]
  },
  {
   "cell_type": "code",
   "execution_count": null,
   "metadata": {},
   "outputs": [],
   "source": [
    "t1.shape"
   ]
  },
  {
   "cell_type": "code",
   "execution_count": null,
   "metadata": {},
   "outputs": [],
   "source": [
    "## T0 creation"
   ]
  },
  {
   "cell_type": "code",
   "execution_count": null,
   "metadata": {},
   "outputs": [],
   "source": [
    "tuner_input_mellody = '../../ci8b00670_si_002/Label_Matrix/T_files/all/'\n",
    "path = os.path.join(tuner_input_mellody, 'T0.csv')\n",
    "melloddy_t0 = pd.read_csv(path)"
   ]
  },
  {
   "cell_type": "code",
   "execution_count": null,
   "metadata": {},
   "outputs": [],
   "source": []
  },
  {
   "cell_type": "raw",
   "metadata": {},
   "source": [
    "tuner_output_images = '../datapreperation/images_files/output_files/image_model/'\n",
    "tuner_output_baseline = '../../data/Mellody_tuner/all/output_all/images_w_melloddy/'\n",
    "\n",
    "T10c_cont_pseudolabels = pd.read_csv(os.path.join(tuner_output_images, 'results/T10c_cont.csv'))\n",
    "T10c_cont_pseudolabels = T10c_cont_pseudolabels[['input_assay_id', 'cont_classification_task_id', 'threshold' ]].drop_duplicates()\n",
    "\n",
    "\n",
    "T10c_cont_baseline = pd.read_csv(os.path.join(tuner_output_baseline, 'results/T10c_cont.csv'))\n",
    "T10c_cont_baseline = T10c_cont_baseline[T10c_cont_baseline.input_assay_id.isin(T10c_cont_pseudolabels.input_assay_id.unique())]\n",
    "T10c_cont_baseline = T10c_cont_baseline[['input_assay_id', 'cont_classification_task_id', 'threshold' ]].drop_duplicates()\n",
    "\n"
   ]
  },
  {
   "cell_type": "raw",
   "metadata": {},
   "source": [
    "mapping_df = pd.merge(T10c_cont_baseline,T10c_cont_pseudolabels, on=['input_assay_id', 'threshold'])\n",
    "\n",
    "assays_to_keep = mapping_df[mapping_df.cont_classification_task_id_y.isin(t1.input_assay_id.unique())]\n",
    "\n",
    "image_cont_iai_to_main_task_cont_iai = assays_to_keep[['cont_classification_task_id_y', 'cont_classification_task_id_x']].set_index('cont_classification_task_id_y').to_dict()['cont_classification_task_id_x']\n",
    "\n"
   ]
  },
  {
   "cell_type": "raw",
   "metadata": {},
   "source": [
    "image_cont_iai_to_main_task_cont_iai"
   ]
  },
  {
   "cell_type": "code",
   "execution_count": null,
   "metadata": {},
   "outputs": [],
   "source": []
  },
  {
   "cell_type": "code",
   "execution_count": null,
   "metadata": {},
   "outputs": [],
   "source": [
    "# change from AUX_IMG to AUX_HTS \n",
    "# change the 1.0 label to 6.0 (to accommodate the rscore 3 threshold and force positive labels)\n",
    "# remove the 0.5 threshold from T0 \n"
   ]
  },
  {
   "cell_type": "code",
   "execution_count": null,
   "metadata": {},
   "outputs": [],
   "source": [
    "n_image_id_start = 10000000 #(high number)\n",
    "image_cont_iai_to_new_iai = {e:i+n_image_id_start for i,e in enumerate(t1.input_assay_id.unique())}"
   ]
  },
  {
   "cell_type": "code",
   "execution_count": null,
   "metadata": {},
   "outputs": [],
   "source": [
    "os.makedirs('./files/mapping', exist_ok=True)"
   ]
  },
  {
   "cell_type": "raw",
   "metadata": {},
   "source": [
    "with open('./files/mapping/image_cont_iai_to_main_task_cont_iai.json', 'w') as fp:\n",
    "    json.dump({str(k):v for k,v in image_cont_iai_to_main_task_cont_iai.items()}, fp)"
   ]
  },
  {
   "cell_type": "code",
   "execution_count": null,
   "metadata": {},
   "outputs": [],
   "source": [
    "with open('./files/mapping/image_cont_iai_to_new_iai.json', 'w') as fp:\n",
    "    json.dump({str(k):v for k,v in image_cont_iai_to_new_iai.items()}, fp)"
   ]
  },
  {
   "cell_type": "code",
   "execution_count": null,
   "metadata": {},
   "outputs": [],
   "source": [
    "t0_image = pd.DataFrame.from_dict(image_cont_iai_to_new_iai,orient='index').reset_index()\n",
    "t0_image = t0_image.rename(columns={'index':'image_col_idx',0:'input_assay_id'})\n",
    "t0_image"
   ]
  },
  {
   "cell_type": "code",
   "execution_count": null,
   "metadata": {},
   "outputs": [],
   "source": [
    "t0_image['source'] = 'image-based pseudolabels'\n",
    "t0_image['assay_type'] =  'AUX_HTS'\n",
    "t0_image['assay_type_reason'] = 'image-based pseudolabels'\n",
    "t0_image['model_description'] = 'img_' + t0_image['image_col_idx'].astype(str)\n",
    "t0_image['assay_description'] = 'img_' + t0_image['image_col_idx'].astype(str)\n"
   ]
  },
  {
   "cell_type": "code",
   "execution_count": null,
   "metadata": {},
   "outputs": [],
   "source": [
    "os.makedirs('./files/aux_data/', exist_ok = True)"
   ]
  },
  {
   "cell_type": "code",
   "execution_count": null,
   "metadata": {},
   "outputs": [],
   "source": [
    "path = './files/aux_data/T0_image_pseudolabels_full.csv'\n",
    "t0_image.to_csv(path,index=False)"
   ]
  },
  {
   "cell_type": "code",
   "execution_count": null,
   "metadata": {},
   "outputs": [],
   "source": [
    "t0_image"
   ]
  },
  {
   "cell_type": "code",
   "execution_count": null,
   "metadata": {},
   "outputs": [],
   "source": [
    "# T1 export "
   ]
  },
  {
   "cell_type": "code",
   "execution_count": null,
   "metadata": {},
   "outputs": [],
   "source": [
    "t1['standard_value'] = np.where(t1['standard_value']==1,6,0)"
   ]
  },
  {
   "cell_type": "code",
   "execution_count": null,
   "metadata": {},
   "outputs": [],
   "source": [
    "t1['input_assay_id_melloddy'] = t1['input_assay_id'].map(image_cont_iai_to_new_iai)"
   ]
  },
  {
   "cell_type": "code",
   "execution_count": null,
   "metadata": {},
   "outputs": [],
   "source": [
    "### Uncomment if in previous notebook the input_compound_id used to create T1_image_pseudolabel_aux_nolabels \n",
    "### is different from MELLODDY ids. Use mapping dict to map to MELLODY ids\n",
    "\n",
    "# t1['input_compound_id_melloddy'] = t1['input_compound_id'].map(compound_integerization_map)\n",
    "# t1_image_out = t1.drop(columns=['input_compound_id','input_assay_id']).rename(columns={\n",
    "#     'input_assay_id_melloddy':'input_assay_id'\n",
    "#    ,'input_compound_id_melloddy':'input_compound_id'\n",
    "# })\n",
    "\n",
    "t1_image_out = t1.drop(columns=['input_assay_id']).rename(columns={\n",
    "    'input_assay_id_melloddy':'input_assay_id'\n",
    "})"
   ]
  },
  {
   "cell_type": "code",
   "execution_count": null,
   "metadata": {},
   "outputs": [],
   "source": [
    "t1_image_out.shape"
   ]
  },
  {
   "cell_type": "code",
   "execution_count": null,
   "metadata": {},
   "outputs": [],
   "source": [
    "t1_image_out.to_csv('./files/aux_data/T1_image_pseudolabels_full.csv', index=False)"
   ]
  },
  {
   "cell_type": "code",
   "execution_count": null,
   "metadata": {},
   "outputs": [],
   "source": [
    "tuner_input_all_images = '../../ci8b00670_si_002/Label_Matrix/T_files/images'\n",
    "pd.read_csv(os.path.join(tuner_input_all_images, 'T2_images.csv')).to_csv('./files/aux_data/T2_image_pseudolabels_full.csv', index=False)"
   ]
  },
  {
   "cell_type": "code",
   "execution_count": null,
   "metadata": {},
   "outputs": [],
   "source": []
  }
 ],
 "metadata": {
  "kernelspec": {
   "display_name": "Mellody Tuner",
   "language": "python",
   "name": "melloddy_tuner_regression"
  },
  "language_info": {
   "codemirror_mode": {
    "name": "ipython",
    "version": 3
   },
   "file_extension": ".py",
   "mimetype": "text/x-python",
   "name": "python",
   "nbconvert_exporter": "python",
   "pygments_lexer": "ipython3",
   "version": "3.6.11"
  }
 },
 "nbformat": 4,
 "nbformat_minor": 4
}
