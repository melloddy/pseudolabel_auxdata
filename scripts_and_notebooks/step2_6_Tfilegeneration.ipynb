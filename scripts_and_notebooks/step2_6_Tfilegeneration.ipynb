{
 "cells": [
  {
   "cell_type": "code",
   "execution_count": 2,
   "metadata": {},
   "outputs": [],
   "source": [
    "import numpy as np \n",
    "import pandas as pd \n",
    "from tqdm import tqdm\n",
    "import json "
   ]
  },
  {
   "cell_type": "code",
   "execution_count": 72,
   "metadata": {},
   "outputs": [],
   "source": [
    "# add labels \n",
    "# integerization of compound id \n",
    "# integerization and mapping of the assay id \n",
    "# T2, T0 creation \n",
    "# --- "
   ]
  },
  {
   "cell_type": "code",
   "execution_count": 3,
   "metadata": {},
   "outputs": [],
   "source": [
    "t1 = pd.read_csv('../data/aux_data/pre/T1_image_pseudolabel_aux_nolabels.csv')"
   ]
  },
  {
   "cell_type": "code",
   "execution_count": null,
   "metadata": {},
   "outputs": [],
   "source": [
    "t1.shape"
   ]
  },
  {
   "cell_type": "code",
   "execution_count": null,
   "metadata": {},
   "outputs": [],
   "source": [
    "## T0 creation"
   ]
  },
  {
   "cell_type": "code",
   "execution_count": 78,
   "metadata": {},
   "outputs": [],
   "source": [
    "path = '/projects/melloddy/data/y2run_final/out/T0_y2_noaux_ext.csv'\n",
    "melloddy_t0 = pd.read_csv(path)"
   ]
  },
  {
   "cell_type": "code",
   "execution_count": 84,
   "metadata": {},
   "outputs": [],
   "source": [
    "# change from AUX_IMG to AUX_HTS \n",
    "# change the 1.0 label to 6.0 (to accommodate the rscore 3 threshold and force positive labels)\n",
    "# remove the 0.5 threshold from T0 \n"
   ]
  },
  {
   "cell_type": "code",
   "execution_count": 85,
   "metadata": {},
   "outputs": [],
   "source": [
    "t0_image = pd.DataFrame.from_dict(image_iai_cont_map,orient='index').reset_index()\n",
    "t0_image = t0_image.rename(columns={'index':'melloddy_col_idx',0:'input_assay_id'})"
   ]
  },
  {
   "cell_type": "code",
   "execution_count": 87,
   "metadata": {},
   "outputs": [],
   "source": [
    "t0_image['source'] = 'image-based pseudolabels'\n",
    "t0_image['assay_type'] =  'AUX_HTS'\n",
    "t0_image['assay_type_reason'] = 'image-based pseudolabels'\n",
    "t0_image['model_description'] = 'img_' + t0_image['melloddy_col_idx'].astype(str)\n",
    "t0_image['assay_description'] = 'img_' + t0_image['melloddy_col_idx'].astype(str)\n"
   ]
  },
  {
   "cell_type": "code",
   "execution_count": 88,
   "metadata": {},
   "outputs": [],
   "source": [
    "path = '../data/aux_data/T0_image_pseudolabels_full.csv'\n",
    "t0_image.to_csv(path,index=False)"
   ]
  },
  {
   "cell_type": "code",
   "execution_count": 89,
   "metadata": {},
   "outputs": [],
   "source": [
    "# T1 export "
   ]
  },
  {
   "cell_type": "code",
   "execution_count": 90,
   "metadata": {},
   "outputs": [],
   "source": [
    "t1['standard_value'] = np.where(t1['standard_value']==1,6,0)"
   ]
  },
  {
   "cell_type": "code",
   "execution_count": 91,
   "metadata": {},
   "outputs": [],
   "source": [
    "t1['input_assay_id_melloddy'] = t1['input_assay_id'].map(image_iai_cont_map)"
   ]
  },
  {
   "cell_type": "code",
   "execution_count": 93,
   "metadata": {},
   "outputs": [],
   "source": [
    "t1['input_compound_id_melloddy'] = t1['input_compound_id'].map(compound_integerization_map)"
   ]
  },
  {
   "cell_type": "code",
   "execution_count": 97,
   "metadata": {},
   "outputs": [],
   "source": [
    "t1_image_out = t1.drop(columns=['input_compound_id','input_assay_id']).rename(columns={\n",
    "    'input_assay_id_melloddy':'input_assay_id'\n",
    "   ,'input_compound_id_melloddy':'input_compound_id'\n",
    "})"
   ]
  },
  {
   "cell_type": "code",
   "execution_count": null,
   "metadata": {},
   "outputs": [],
   "source": [
    "t1_image_out.shape"
   ]
  },
  {
   "cell_type": "code",
   "execution_count": 99,
   "metadata": {},
   "outputs": [],
   "source": [
    "t1_image_out.to_csv('../data/aux_data/T1_image_pseudolabels_full.csv', index=False)"
   ]
  },
  {
   "cell_type": "code",
   "execution_count": null,
   "metadata": {},
   "outputs": [],
   "source": [
    ".to_csv('../data/aux_data/T2_image_pseudolabels_full.csv')"
   ]
  }
 ],
 "metadata": {
  "kernelspec": {
   "display_name": "Python [conda env:python36]",
   "language": "python",
   "name": "conda-env-python36-py"
  },
  "language_info": {
   "codemirror_mode": {
    "name": "ipython",
    "version": 3
   },
   "file_extension": ".py",
   "mimetype": "text/x-python",
   "name": "python",
   "nbconvert_exporter": "python",
   "pygments_lexer": "ipython3",
   "version": "3.6.10"
  }
 },
 "nbformat": 4,
 "nbformat_minor": 4
}
