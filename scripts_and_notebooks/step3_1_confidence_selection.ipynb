{
 "cells": [
  {
   "cell_type": "code",
   "execution_count": 66,
   "metadata": {},
   "outputs": [],
   "source": [
    "import pandas as pd \n",
    "import numpy as np\n",
    "from scipy.sparse import load_npz,save_npz,lil_matrix,csr_matrix\n",
    "from tqdm import tqdm \n",
    "import os"
   ]
  },
  {
   "cell_type": "code",
   "execution_count": 67,
   "metadata": {},
   "outputs": [],
   "source": [
    "path = '.../data/baseline_plus_aux_data/matrices/cls/cls_T10_y.npz'\n",
    "y = load_npz(path)"
   ]
  },
  {
   "cell_type": "code",
   "execution_count": null,
   "metadata": {},
   "outputs": [],
   "source": [
    "y.shape"
   ]
  },
  {
   "cell_type": "code",
   "execution_count": null,
   "metadata": {},
   "outputs": [],
   "source": [
    "path = '.../data/baseline_plus_aux_data/matrices/cls/cls_weights.csv'\n",
    "weights = pd.read_csv(path)"
   ]
  },
  {
   "cell_type": "code",
   "execution_count": null,
   "metadata": {
    "scrolled": true
   },
   "outputs": [],
   "source": [
    "weights"
   ]
  },
  {
   "cell_type": "code",
   "execution_count": 71,
   "metadata": {},
   "outputs": [],
   "source": [
    "# link this to an id in the summary eps 0.05 file"
   ]
  },
  {
   "cell_type": "code",
   "execution_count": 72,
   "metadata": {},
   "outputs": [],
   "source": [
    "path = '.../data/baseline_plus_aux_data/results_tmp/classification/T8c.csv'\n",
    "t8c = pd.read_csv(path)"
   ]
  },
  {
   "cell_type": "code",
   "execution_count": null,
   "metadata": {},
   "outputs": [],
   "source": [
    "t8c.columns"
   ]
  },
  {
   "cell_type": "code",
   "execution_count": 74,
   "metadata": {},
   "outputs": [],
   "source": [
    "path = '.../data/baseline_plus_aux_data/T0_image_pseudolabels_plus_baseline.csv'\n",
    "t0 = pd.read_csv(path)"
   ]
  },
  {
   "cell_type": "code",
   "execution_count": 76,
   "metadata": {},
   "outputs": [],
   "source": [
    "df_mgd = pd.merge(\n",
    "            weights\n",
    "            ,\n",
    "            pd.merge(\n",
    "                t0\n",
    "                ,t8c\n",
    "                ,how='inner'\n",
    "                ,on='input_assay_id'\n",
    "            )\n",
    "            ,how='inner'\n",
    "            ,left_on='task_id'\n",
    "            ,right_on='cont_classification_task_id'\n",
    "        )"
   ]
  },
  {
   "cell_type": "code",
   "execution_count": 80,
   "metadata": {},
   "outputs": [],
   "source": [
    "path = './cp/summary_eps_0.05.csv'\n",
    "df_cp = pd.read_csv(path)"
   ]
  },
  {
   "cell_type": "code",
   "execution_count": 81,
   "metadata": {},
   "outputs": [],
   "source": [
    "df_mgd_cp = pd.merge(\n",
    "    df_cp\n",
    "    ,df_mgd\n",
    "    ,how='inner'\n",
    "    ,left_on='index'\n",
    "    ,right_on='melloddy_col_idx'\n",
    ")"
   ]
  },
  {
   "cell_type": "code",
   "execution_count": 87,
   "metadata": {},
   "outputs": [],
   "source": [
    "path = '../analysis/cp/summary_eps_0.05_mgd_cp.csv'\n",
    "df_mgd_cp.to_csv(path, index=False)"
   ]
  },
  {
   "cell_type": "code",
   "execution_count": 82,
   "metadata": {},
   "outputs": [],
   "source": [
    "lst = [0\n",
    "       ,0.2\n",
    "       ,0.4\n",
    "       ,0.5\n",
    "       ,0.6\n",
    "       ,0.7\n",
    "       ,0.8\n",
    "       ,0.9\n",
    "       ,0.95\n",
    "       ,0.99\n",
    "      ]"
   ]
  },
  {
   "cell_type": "code",
   "execution_count": null,
   "metadata": {},
   "outputs": [],
   "source": [
    "y_lil = lil_matrix(y)\n",
    "all_cctis = set(df_mgd_cp['cont_classification_task_id'])\n",
    "base_path = '/projects/home/wheyndri/research/wp1_imageauxdata/12_y3_imageaux_study/data/baseline_plus_aux_data/matrices/cls/confidence_selection/'\n",
    "for i,l1 in tqdm(enumerate(lst)):\n",
    "    for j,l2 in enumerate(lst): \n",
    "        file_core = 'ppv{}_npv{}'.format(l1,l2).replace('.','_')\n",
    "        y_out = y_lil.copy()\n",
    "        cctis_to_keep = set(df_mgd_cp.query('validity_0 > @l1').query('validity_1 > @l2')['cont_classification_task_id'])\n",
    "        cctis_to_drop = all_cctis.difference(cctis_to_keep)\n",
    "        for ccti in cctis_to_drop: \n",
    "            y_out[:,ccti] = 0\n",
    "        save_npz(os.path.join(base_path,'cls_T10_y_'+file_core+'.npz')\n",
    "                 ,csr_matrix(y_out))"
   ]
  }
 ],
 "metadata": {
  "kernelspec": {
   "display_name": "Python [conda env:python36]",
   "language": "python",
   "name": "conda-env-python36-py"
  },
  "language_info": {
   "codemirror_mode": {
    "name": "ipython",
    "version": 3
   },
   "file_extension": ".py",
   "mimetype": "text/x-python",
   "name": "python",
   "nbconvert_exporter": "python",
   "pygments_lexer": "ipython3",
   "version": "3.6.12"
  }
 },
 "nbformat": 4,
 "nbformat_minor": 4
}
