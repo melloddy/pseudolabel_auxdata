{
 "cells": [
  {
   "cell_type": "code",
   "execution_count": null,
   "metadata": {},
   "outputs": [],
   "source": [
    "import pandas as pd \n",
    "import numpy as np\n",
    "from scipy.sparse import load_npz,save_npz,lil_matrix,csr_matrix\n",
    "from tqdm import tqdm \n",
    "import os"
   ]
  },
  {
   "cell_type": "code",
   "execution_count": null,
   "metadata": {},
   "outputs": [],
   "source": [
    "## y sparse generation for the model training in step 3 \n",
    "# idea is to identify the corresponding aux tasks and associate their performance in the image-based model"
   ]
  },
  {
   "cell_type": "code",
   "execution_count": null,
   "metadata": {},
   "outputs": [],
   "source": [
    "path = '../notebooks/aux_data/baseline_plus_aux_data/matrices/cls/cls_T10_y.npz'\n",
    "y = load_npz(path)"
   ]
  },
  {
   "cell_type": "code",
   "execution_count": null,
   "metadata": {},
   "outputs": [],
   "source": [
    "y.shape"
   ]
  },
  {
   "cell_type": "code",
   "execution_count": null,
   "metadata": {},
   "outputs": [],
   "source": [
    "path = './cp/summary_eps_0.05.csv'\n",
    "df_cp = pd.read_csv(path)"
   ]
  },
  {
   "cell_type": "code",
   "execution_count": null,
   "metadata": {},
   "outputs": [],
   "source": [
    "path = '../notebooks/aux_data/baseline_plus_aux_data/results_tmp/classification/T8c.csv'\n",
    "t8c = pd.read_csv(path)"
   ]
  },
  {
   "cell_type": "code",
   "execution_count": null,
   "metadata": {},
   "outputs": [],
   "source": [
    "t8c['cont_classification_task_id'].max()"
   ]
  },
  {
   "cell_type": "code",
   "execution_count": null,
   "metadata": {},
   "outputs": [],
   "source": [
    "path = './mapping/baseline_image_model_task_mapping.csv'\n",
    "baseline_imagemodel_mapping = pd.read_csv(path)"
   ]
  },
  {
   "cell_type": "code",
   "execution_count": null,
   "metadata": {
    "scrolled": true
   },
   "outputs": [],
   "source": [
    "baseline_imagemodel_mapping"
   ]
  },
  {
   "cell_type": "code",
   "execution_count": null,
   "metadata": {},
   "outputs": [],
   "source": [
    "df_cp['index'].max()"
   ]
  },
  {
   "cell_type": "code",
   "execution_count": null,
   "metadata": {
    "scrolled": true
   },
   "outputs": [],
   "source": [
    "df_cp_mgd = pd.merge(\n",
    "    df_cp\n",
    "    ,baseline_imagemodel_mapping\n",
    "    ,left_on='index'\n",
    "    ,right_on='cont_classification_task_id_image'\n",
    "    ,how='inner'\n",
    ")"
   ]
  },
  {
   "cell_type": "code",
   "execution_count": null,
   "metadata": {},
   "outputs": [],
   "source": [
    "path = './cp/summary_eps_0.05_mgd_cp.csv'\n",
    "df_cp_mgd.to_csv(path, index=False)"
   ]
  },
  {
   "cell_type": "code",
   "execution_count": null,
   "metadata": {},
   "outputs": [],
   "source": [
    "## get to the baseline+aux cctis "
   ]
  },
  {
   "cell_type": "code",
   "execution_count": null,
   "metadata": {},
   "outputs": [],
   "source": [
    "### df_cp_mgd vs df_mgd_cp !! TO CHECK "
   ]
  },
  {
   "cell_type": "code",
   "execution_count": null,
   "metadata": {},
   "outputs": [],
   "source": [
    "df_matching = pd.merge(\n",
    "    df_mgd_cp\n",
    "    ,t8c\n",
    "    ,on=['input_assay_id','threshold']\n",
    "    ,how='inner'\n",
    "    ,suffixes=('_image','_baselineaux')\n",
    ")"
   ]
  },
  {
   "cell_type": "code",
   "execution_count": null,
   "metadata": {},
   "outputs": [],
   "source": [
    "df_matching['cont_classification_task_id_baselineaux'].hist()"
   ]
  },
  {
   "cell_type": "code",
   "execution_count": null,
   "metadata": {},
   "outputs": [],
   "source": [
    "y_lil = lil_matrix(y)"
   ]
  },
  {
   "cell_type": "code",
   "execution_count": null,
   "metadata": {},
   "outputs": [],
   "source": [
    "all_cctis_baselineaux = set(t8c['cont_classification_task_id'].dropna().unique())\n",
    "base_path = './aux_data/baseline_plus_aux_data/matrices/cls/confidence_selection/'"
   ]
  },
  {
   "cell_type": "code",
   "execution_count": null,
   "metadata": {},
   "outputs": [],
   "source": [
    "len(all_cctis_baselineaux)"
   ]
  },
  {
   "cell_type": "code",
   "execution_count": null,
   "metadata": {},
   "outputs": [],
   "source": [
    "file_core = 'ppv{}_npv{}'.format(l1,l2).replace('.','_')\n",
    "y_out = y_lil.copy()"
   ]
  },
  {
   "cell_type": "code",
   "execution_count": null,
   "metadata": {},
   "outputs": [],
   "source": [
    "all_cctis_aux = set(df_matching['cont_classification_task_id_baselineaux'])"
   ]
  },
  {
   "cell_type": "code",
   "execution_count": null,
   "metadata": {},
   "outputs": [],
   "source": [
    "cctis_to_keep = set(df_matching.query('validity_0 > @l1').query('validity_1 > @l2')['cont_classification_task_id_baselineaux'])"
   ]
  },
  {
   "cell_type": "code",
   "execution_count": null,
   "metadata": {},
   "outputs": [],
   "source": [
    "len(all_cctis_aux)"
   ]
  },
  {
   "cell_type": "code",
   "execution_count": null,
   "metadata": {},
   "outputs": [],
   "source": [
    "len(cctis_to_keep)"
   ]
  },
  {
   "cell_type": "code",
   "execution_count": null,
   "metadata": {},
   "outputs": [],
   "source": [
    "cctis_to_drop = all_cctis_aux.difference(cctis_to_keep)"
   ]
  },
  {
   "cell_type": "code",
   "execution_count": null,
   "metadata": {},
   "outputs": [],
   "source": [
    "len(cctis_to_drop)"
   ]
  },
  {
   "cell_type": "code",
   "execution_count": null,
   "metadata": {},
   "outputs": [],
   "source": [
    "lst = [0\n",
    "       ,0.2\n",
    "       ,0.4\n",
    "       ,0.5\n",
    "       ,0.6\n",
    "       ,0.7\n",
    "       ,0.8\n",
    "       ,0.9\n",
    "       ,0.95\n",
    "       ,0.99\n",
    "      ]"
   ]
  },
  {
   "cell_type": "code",
   "execution_count": null,
   "metadata": {
    "scrolled": true
   },
   "outputs": [],
   "source": [
    "file_core = 'ppv{}_npv{}'.format(l1,l2).replace('.','_')\n",
    "y_out = y_lil.copy()\n",
    "all_cctis_aux = set(df_matching['cont_classification_task_id_baselineaux'])\n",
    "\n",
    "\n",
    "for i,l1 in tqdm(enumerate(lst)):\n",
    "    l2 = l1\n",
    "    #for j,l2 in enumerate(lst): \n",
    "    file_core = 'ppv{}_npv{}'.format(l1,l2).replace('.','_')\n",
    "    y_out = y_lil.copy()\n",
    "    cctis_to_keep = set(df_matching.query('validity_0 > @l1').query('validity_1 > @l2')['cont_classification_task_id_baselineaux'])\n",
    "    cctis_to_drop = all_cctis_aux.difference(cctis_to_keep)        \n",
    "    for ccti in cctis_to_drop: \n",
    "        y_out[:,ccti] = 0\n",
    "    y_out_csr = csr_matrix(y_out)\n",
    "    print(y_out_csr.shape)\n",
    "    save_npz(os.path.join(base_path,'cls_T10_y_'+file_core+'.npz')\n",
    "             ,y_out_csr)"
   ]
  },
  {
   "cell_type": "code",
   "execution_count": null,
   "metadata": {},
   "outputs": [],
   "source": [
    "# baseline y-sparse creation\n",
    "# approach : set all aux tasks to 0 "
   ]
  },
  {
   "cell_type": "code",
   "execution_count": null,
   "metadata": {},
   "outputs": [],
   "source": [
    "\n",
    "file_core = 'baseline'\n",
    "y_out = y_lil.copy()\n",
    "\n",
    "\n",
    "\n",
    "for ccti in all_cctis_aux: \n",
    "    y_out[:,ccti] = 0\n",
    "y_out_csr = csr_matrix(y_out)\n",
    "print(y_out_csr.shape)\n",
    "save_npz(os.path.join(base_path,'cls_T10_y_'+file_core+'.npz')\n",
    "         ,y_out_csr)"
   ]
  },
  {
   "cell_type": "code",
   "execution_count": null,
   "metadata": {},
   "outputs": [],
   "source": []
  },
  {
   "cell_type": "code",
   "execution_count": null,
   "metadata": {},
   "outputs": [],
   "source": []
  },
  {
   "cell_type": "code",
   "execution_count": null,
   "metadata": {},
   "outputs": [],
   "source": []
  }
 ],
 "metadata": {
  "kernelspec": {
   "display_name": "Mellody Tuner",
   "language": "python",
   "name": "melloddy_tuner_regression"
  },
  "language_info": {
   "codemirror_mode": {
    "name": "ipython",
    "version": 3
   },
   "file_extension": ".py",
   "mimetype": "text/x-python",
   "name": "python",
   "nbconvert_exporter": "python",
   "pygments_lexer": "ipython3",
   "version": "3.6.11"
  }
 },
 "nbformat": 4,
 "nbformat_minor": 4
}
