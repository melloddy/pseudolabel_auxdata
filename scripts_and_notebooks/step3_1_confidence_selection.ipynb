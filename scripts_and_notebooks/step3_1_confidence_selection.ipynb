{
 "cells": [
  {
   "cell_type": "code",
   "execution_count": 1,
   "metadata": {},
   "outputs": [],
   "source": [
    "import pandas as pd \n",
    "import numpy as np\n",
    "from scipy.sparse import load_npz,save_npz,lil_matrix,csr_matrix\n",
    "from tqdm import tqdm \n",
    "import os"
   ]
  },
  {
   "cell_type": "code",
   "execution_count": 2,
   "metadata": {},
   "outputs": [],
   "source": [
    "path = './files/baseline_plus_aux_data/pseudolabels_plus_baseline/matrices/cls/cls_T10_y.npz'\n",
    "y = load_npz(path)"
   ]
  },
  {
   "cell_type": "code",
   "execution_count": 3,
   "metadata": {},
   "outputs": [
    {
     "data": {
      "text/plain": [
       "(422185, 2963)"
      ]
     },
     "execution_count": 3,
     "metadata": {},
     "output_type": "execute_result"
    }
   ],
   "source": [
    "y.shape"
   ]
  },
  {
   "cell_type": "code",
   "execution_count": 4,
   "metadata": {},
   "outputs": [],
   "source": [
    "path = './files/baseline_plus_aux_data/pseudolabels_plus_baseline/matrices/cls/cls_weights.csv'\n",
    "weights = pd.read_csv(path)"
   ]
  },
  {
   "cell_type": "code",
   "execution_count": 5,
   "metadata": {
    "scrolled": true
   },
   "outputs": [
    {
     "data": {
      "text/html": [
       "<div>\n",
       "<style scoped>\n",
       "    .dataframe tbody tr th:only-of-type {\n",
       "        vertical-align: middle;\n",
       "    }\n",
       "\n",
       "    .dataframe tbody tr th {\n",
       "        vertical-align: top;\n",
       "    }\n",
       "\n",
       "    .dataframe thead th {\n",
       "        text-align: right;\n",
       "    }\n",
       "</style>\n",
       "<table border=\"1\" class=\"dataframe\">\n",
       "  <thead>\n",
       "    <tr style=\"text-align: right;\">\n",
       "      <th></th>\n",
       "      <th>task_id</th>\n",
       "      <th>task_type</th>\n",
       "      <th>training_weight</th>\n",
       "      <th>aggregation_weight</th>\n",
       "    </tr>\n",
       "  </thead>\n",
       "  <tbody>\n",
       "    <tr>\n",
       "      <th>0</th>\n",
       "      <td>0</td>\n",
       "      <td>OTHER</td>\n",
       "      <td>1.000000</td>\n",
       "      <td>0.0</td>\n",
       "    </tr>\n",
       "    <tr>\n",
       "      <th>1</th>\n",
       "      <td>1</td>\n",
       "      <td>OTHER</td>\n",
       "      <td>0.500000</td>\n",
       "      <td>0.0</td>\n",
       "    </tr>\n",
       "    <tr>\n",
       "      <th>2</th>\n",
       "      <td>2</td>\n",
       "      <td>OTHER</td>\n",
       "      <td>0.500000</td>\n",
       "      <td>0.0</td>\n",
       "    </tr>\n",
       "    <tr>\n",
       "      <th>3</th>\n",
       "      <td>3</td>\n",
       "      <td>OTHER</td>\n",
       "      <td>0.333333</td>\n",
       "      <td>0.0</td>\n",
       "    </tr>\n",
       "    <tr>\n",
       "      <th>4</th>\n",
       "      <td>4</td>\n",
       "      <td>OTHER</td>\n",
       "      <td>0.333333</td>\n",
       "      <td>1.0</td>\n",
       "    </tr>\n",
       "    <tr>\n",
       "      <th>...</th>\n",
       "      <td>...</td>\n",
       "      <td>...</td>\n",
       "      <td>...</td>\n",
       "      <td>...</td>\n",
       "    </tr>\n",
       "    <tr>\n",
       "      <th>2958</th>\n",
       "      <td>2958</td>\n",
       "      <td>AUX_HTS</td>\n",
       "      <td>0.100000</td>\n",
       "      <td>0.0</td>\n",
       "    </tr>\n",
       "    <tr>\n",
       "      <th>2959</th>\n",
       "      <td>2959</td>\n",
       "      <td>AUX_HTS</td>\n",
       "      <td>0.100000</td>\n",
       "      <td>0.0</td>\n",
       "    </tr>\n",
       "    <tr>\n",
       "      <th>2960</th>\n",
       "      <td>2960</td>\n",
       "      <td>AUX_HTS</td>\n",
       "      <td>0.100000</td>\n",
       "      <td>0.0</td>\n",
       "    </tr>\n",
       "    <tr>\n",
       "      <th>2961</th>\n",
       "      <td>2961</td>\n",
       "      <td>AUX_HTS</td>\n",
       "      <td>0.100000</td>\n",
       "      <td>0.0</td>\n",
       "    </tr>\n",
       "    <tr>\n",
       "      <th>2962</th>\n",
       "      <td>2962</td>\n",
       "      <td>AUX_HTS</td>\n",
       "      <td>0.100000</td>\n",
       "      <td>0.0</td>\n",
       "    </tr>\n",
       "  </tbody>\n",
       "</table>\n",
       "<p>2963 rows × 4 columns</p>\n",
       "</div>"
      ],
      "text/plain": [
       "      task_id task_type  training_weight  aggregation_weight\n",
       "0           0     OTHER         1.000000                 0.0\n",
       "1           1     OTHER         0.500000                 0.0\n",
       "2           2     OTHER         0.500000                 0.0\n",
       "3           3     OTHER         0.333333                 0.0\n",
       "4           4     OTHER         0.333333                 1.0\n",
       "...       ...       ...              ...                 ...\n",
       "2958     2958   AUX_HTS         0.100000                 0.0\n",
       "2959     2959   AUX_HTS         0.100000                 0.0\n",
       "2960     2960   AUX_HTS         0.100000                 0.0\n",
       "2961     2961   AUX_HTS         0.100000                 0.0\n",
       "2962     2962   AUX_HTS         0.100000                 0.0\n",
       "\n",
       "[2963 rows x 4 columns]"
      ]
     },
     "execution_count": 5,
     "metadata": {},
     "output_type": "execute_result"
    }
   ],
   "source": [
    "weights"
   ]
  },
  {
   "cell_type": "code",
   "execution_count": 6,
   "metadata": {},
   "outputs": [],
   "source": [
    "# link this to an id in the summary eps 0.05 file"
   ]
  },
  {
   "cell_type": "code",
   "execution_count": 7,
   "metadata": {},
   "outputs": [],
   "source": [
    "path = '../../data/Mellody_tuner/baseline_plus_aux_data/baseline_plus_aux_data/results_tmp/classification/T8c.csv'\n",
    "t8c = pd.read_csv(path)"
   ]
  },
  {
   "cell_type": "code",
   "execution_count": 8,
   "metadata": {},
   "outputs": [
    {
     "data": {
      "text/plain": [
       "Index(['cont_classification_task_id', 'classification_task_id',\n",
       "       'input_assay_id', 'assay_type', 'variance_quorum_OK', 'is_auxiliary',\n",
       "       'use_in_regression', 'threshold', 'threshold_method', 'direction',\n",
       "       'training_quorum_OK', 'evaluation_quorum_OK', 'aggregation_weight',\n",
       "       'weight', 'num_total_actives', 'num_fold_min_actives',\n",
       "       'num_total_inactives', 'num_fold_min_inactives', 'n_tasks'],\n",
       "      dtype='object')"
      ]
     },
     "execution_count": 8,
     "metadata": {},
     "output_type": "execute_result"
    }
   ],
   "source": [
    "t8c.columns"
   ]
  },
  {
   "cell_type": "code",
   "execution_count": 10,
   "metadata": {},
   "outputs": [],
   "source": [
    "path = './files/baseline_plus_aux_data/input/T0_image_pseudolabels_plus_baseline.csv'\n",
    "t0 = pd.read_csv(path)"
   ]
  },
  {
   "cell_type": "code",
   "execution_count": 11,
   "metadata": {},
   "outputs": [],
   "source": [
    "df_mgd = pd.merge(\n",
    "            weights\n",
    "            ,\n",
    "            pd.merge(\n",
    "                t0\n",
    "                ,t8c\n",
    "                ,how='inner'\n",
    "                ,on='input_assay_id'\n",
    "            )\n",
    "            ,how='inner'\n",
    "            ,left_on='task_id'\n",
    "            ,right_on='cont_classification_task_id'\n",
    "        )"
   ]
  },
  {
   "cell_type": "code",
   "execution_count": 12,
   "metadata": {},
   "outputs": [],
   "source": [
    "path = './cp/summary_eps_0.05.csv'\n",
    "df_cp = pd.read_csv(path)"
   ]
  },
  {
   "cell_type": "code",
   "execution_count": 13,
   "metadata": {},
   "outputs": [],
   "source": [
    "df_mgd_cp = pd.merge(\n",
    "    df_cp\n",
    "    ,df_mgd\n",
    "    ,how='inner'\n",
    "    ,left_on='index'\n",
    "    ,right_on='melloddy_col_idx'\n",
    ")"
   ]
  },
  {
   "cell_type": "code",
   "execution_count": 14,
   "metadata": {},
   "outputs": [],
   "source": [
    "path = './cp/summary_eps_0.05_mgd_cp.csv'\n",
    "df_mgd_cp.to_csv(path, index=False)"
   ]
  },
  {
   "cell_type": "code",
   "execution_count": 16,
   "metadata": {},
   "outputs": [],
   "source": [
    "lst = [0\n",
    "       ,0.2\n",
    "       ,0.4\n",
    "       ,0.5\n",
    "       ,0.6\n",
    "       ,0.7\n",
    "       ,0.8\n",
    "       ,0.9\n",
    "       ,0.95\n",
    "       ,0.99\n",
    "      ]"
   ]
  },
  {
   "cell_type": "code",
   "execution_count": 17,
   "metadata": {},
   "outputs": [
    {
     "name": "stderr",
     "output_type": "stream",
     "text": [
      "10it [05:36, 33.69s/it]\n"
     ]
    }
   ],
   "source": [
    "y_lil = lil_matrix(y)\n",
    "all_cctis = set(df_mgd_cp['cont_classification_task_id'])\n",
    "base_path = './files/baseline_plus_aux_data/pseudolabels_plus_baseline/matrices/cls/confidence_selection/'\n",
    "for i,l1 in tqdm(enumerate(lst)):\n",
    "    for j,l2 in enumerate(lst): \n",
    "        file_core = 'ppv{}_npv{}'.format(l1,l2).replace('.','_')\n",
    "        y_out = y_lil.copy()\n",
    "        cctis_to_keep = set(df_mgd_cp.query('validity_0 > @l1').query('validity_1 > @l2')['cont_classification_task_id'])\n",
    "        cctis_to_drop = all_cctis.difference(cctis_to_keep)\n",
    "        for ccti in cctis_to_drop: \n",
    "            y_out[:,ccti] = 0\n",
    "        save_npz(os.path.join(base_path,'cls_T10_y_'+file_core+'.npz')\n",
    "                 ,csr_matrix(y_out))"
   ]
  },
  {
   "cell_type": "code",
   "execution_count": null,
   "metadata": {},
   "outputs": [],
   "source": []
  }
 ],
 "metadata": {
  "kernelspec": {
   "display_name": "Mellody Tuner",
   "language": "python",
   "name": "melloddy_tuner_regression"
  },
  "language_info": {
   "codemirror_mode": {
    "name": "ipython",
    "version": 3
   },
   "file_extension": ".py",
   "mimetype": "text/x-python",
   "name": "python",
   "nbconvert_exporter": "python",
   "pygments_lexer": "ipython3",
   "version": "3.6.11"
  }
 },
 "nbformat": 4,
 "nbformat_minor": 4
}
