{
 "cells": [
  {
   "cell_type": "code",
   "execution_count": null,
   "id": "fluid-press",
   "metadata": {},
   "outputs": [],
   "source": [
    "import pandas as pd\n",
    "import rdkit\n",
    "import scipy.sparse\n",
    "import os"
   ]
  },
  {
   "cell_type": "code",
   "execution_count": null,
   "id": "hispanic-logic",
   "metadata": {},
   "outputs": [],
   "source": []
  },
  {
   "cell_type": "code",
   "execution_count": null,
   "id": "pleased-catering",
   "metadata": {},
   "outputs": [],
   "source": [
    "## Path to file containing image features indexed with the input_compound_id\n",
    "features_file = './images_files/input_hofmarcher/T_image_features_std.csv'\n",
    "\n",
    "## Path to folder containing melloddy tuner output on image compounds\n",
    "tuner_output_images = './images_files/output_files/image_model'\n",
    "\n"
   ]
  },
  {
   "cell_type": "code",
   "execution_count": null,
   "id": "funny-world",
   "metadata": {},
   "outputs": [],
   "source": [
    "t5 = pd.read_csv(os.path.join(tuner_output_images, 'mapping_table/T5.csv'))\n",
    "t5 = t5[['input_compound_id','descriptor_vector_id']]\n",
    "\n",
    "t6_cont = pd.read_csv(os.path.join(tuner_output_images, 'results/T6_cont.csv'))\n",
    "t6_cont = t6_cont[['descriptor_vector_id','cont_descriptor_vector_id']].drop_duplicates()\n",
    "\n",
    "cmpd_mapping_table = pd.merge(t5, t6_cont, on='descriptor_vector_id', how='inner')\n",
    "cmpd_mapping_table"
   ]
  },
  {
   "cell_type": "code",
   "execution_count": null,
   "id": "union-killing",
   "metadata": {},
   "outputs": [],
   "source": [
    "T_image_features = pd.read_csv(features_file)\n"
   ]
  },
  {
   "cell_type": "code",
   "execution_count": null,
   "id": "fitting-liabilities",
   "metadata": {},
   "outputs": [],
   "source": [
    "x_features = pd.merge(T_image_features, cmpd_mapping_table, on='input_compound_id', how='right')\n",
    "x_features = x_features.drop(['input_compound_id','descriptor_vector_id'], axis=1)\n",
    "x_features = x_features.groupby('cont_descriptor_vector_id').agg('mean')\n",
    "cls_T11_x_features = scipy.sparse.csr_matrix(x_features.values)\n"
   ]
  },
  {
   "cell_type": "code",
   "execution_count": null,
   "id": "interstate-fault",
   "metadata": {},
   "outputs": [],
   "source": [
    "cls_T11_x = scipy.sparse.load_npz(os.path.join(tuner_output_images,'matrices/cls/cls_T11_x.npz'))\n"
   ]
  },
  {
   "cell_type": "code",
   "execution_count": null,
   "id": "constitutional-florist",
   "metadata": {},
   "outputs": [],
   "source": [
    "assert cls_T11_x_features.shape[0] == cls_T11_x.shape[0]"
   ]
  },
  {
   "cell_type": "code",
   "execution_count": null,
   "id": "adopted-comparison",
   "metadata": {},
   "outputs": [],
   "source": [
    "scipy.sparse.save_npz(file=os.path.join(tuner_output_images, 'matrices/cls/cls_T11_x_features.npz'), matrix=cls_T11_x_features)\n"
   ]
  }
 ],
 "metadata": {
  "kernelspec": {
   "display_name": "Mellody Tuner",
   "language": "python",
   "name": "melloddy_tuner_regression"
  },
  "language_info": {
   "codemirror_mode": {
    "name": "ipython",
    "version": 3
   },
   "file_extension": ".py",
   "mimetype": "text/x-python",
   "name": "python",
   "nbconvert_exporter": "python",
   "pygments_lexer": "ipython3",
   "version": "3.6.11"
  }
 },
 "nbformat": 4,
 "nbformat_minor": 5
}
