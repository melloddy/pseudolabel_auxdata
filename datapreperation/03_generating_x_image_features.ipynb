{
 "cells": [
  {
   "cell_type": "code",
   "execution_count": 1,
   "id": "built-scroll",
   "metadata": {},
   "outputs": [],
   "source": [
    "import pandas as pd\n",
    "import rdkit\n",
    "import scipy.sparse\n",
    "import os"
   ]
  },
  {
   "cell_type": "code",
   "execution_count": 2,
   "id": "graphic-pledge",
   "metadata": {},
   "outputs": [],
   "source": [
    "## file containing image features indexed with the input_compound_id\n",
    "features_file = './images_files/input_hofmarcher/T_image_features_std.csv'\n",
    "\n",
    "## Folder containing melloddy tuner output on image compounds\n",
    "tuner_output_images = './images_files/output_files/image_model'\n",
    "\n"
   ]
  },
  {
   "cell_type": "code",
   "execution_count": 4,
   "id": "mysterious-threshold",
   "metadata": {},
   "outputs": [
    {
     "data": {
      "text/html": [
       "<div>\n",
       "<style scoped>\n",
       "    .dataframe tbody tr th:only-of-type {\n",
       "        vertical-align: middle;\n",
       "    }\n",
       "\n",
       "    .dataframe tbody tr th {\n",
       "        vertical-align: top;\n",
       "    }\n",
       "\n",
       "    .dataframe thead th {\n",
       "        text-align: right;\n",
       "    }\n",
       "</style>\n",
       "<table border=\"1\" class=\"dataframe\">\n",
       "  <thead>\n",
       "    <tr style=\"text-align: right;\">\n",
       "      <th></th>\n",
       "      <th>input_compound_id</th>\n",
       "      <th>descriptor_vector_id</th>\n",
       "      <th>cont_descriptor_vector_id</th>\n",
       "    </tr>\n",
       "  </thead>\n",
       "  <tbody>\n",
       "    <tr>\n",
       "      <th>0</th>\n",
       "      <td>845253</td>\n",
       "      <td>3607</td>\n",
       "      <td>3479</td>\n",
       "    </tr>\n",
       "    <tr>\n",
       "      <th>1</th>\n",
       "      <td>298290</td>\n",
       "      <td>2447</td>\n",
       "      <td>2344</td>\n",
       "    </tr>\n",
       "    <tr>\n",
       "      <th>2</th>\n",
       "      <td>922657</td>\n",
       "      <td>4652</td>\n",
       "      <td>4464</td>\n",
       "    </tr>\n",
       "    <tr>\n",
       "      <th>3</th>\n",
       "      <td>62817</td>\n",
       "      <td>1122</td>\n",
       "      <td>1084</td>\n",
       "    </tr>\n",
       "    <tr>\n",
       "      <th>4</th>\n",
       "      <td>1001579</td>\n",
       "      <td>1481</td>\n",
       "      <td>1433</td>\n",
       "    </tr>\n",
       "    <tr>\n",
       "      <th>...</th>\n",
       "      <td>...</td>\n",
       "      <td>...</td>\n",
       "      <td>...</td>\n",
       "    </tr>\n",
       "    <tr>\n",
       "      <th>10062</th>\n",
       "      <td>773366</td>\n",
       "      <td>8753</td>\n",
       "      <td>8410</td>\n",
       "    </tr>\n",
       "    <tr>\n",
       "      <th>10063</th>\n",
       "      <td>989091</td>\n",
       "      <td>4554</td>\n",
       "      <td>4368</td>\n",
       "    </tr>\n",
       "    <tr>\n",
       "      <th>10064</th>\n",
       "      <td>26590</td>\n",
       "      <td>4650</td>\n",
       "      <td>4462</td>\n",
       "    </tr>\n",
       "    <tr>\n",
       "      <th>10065</th>\n",
       "      <td>736500</td>\n",
       "      <td>389</td>\n",
       "      <td>360</td>\n",
       "    </tr>\n",
       "    <tr>\n",
       "      <th>10066</th>\n",
       "      <td>747009</td>\n",
       "      <td>3418</td>\n",
       "      <td>3294</td>\n",
       "    </tr>\n",
       "  </tbody>\n",
       "</table>\n",
       "<p>10067 rows × 3 columns</p>\n",
       "</div>"
      ],
      "text/plain": [
       "       input_compound_id  descriptor_vector_id  cont_descriptor_vector_id\n",
       "0                 845253                  3607                       3479\n",
       "1                 298290                  2447                       2344\n",
       "2                 922657                  4652                       4464\n",
       "3                  62817                  1122                       1084\n",
       "4                1001579                  1481                       1433\n",
       "...                  ...                   ...                        ...\n",
       "10062             773366                  8753                       8410\n",
       "10063             989091                  4554                       4368\n",
       "10064              26590                  4650                       4462\n",
       "10065             736500                   389                        360\n",
       "10066             747009                  3418                       3294\n",
       "\n",
       "[10067 rows x 3 columns]"
      ]
     },
     "execution_count": 4,
     "metadata": {},
     "output_type": "execute_result"
    }
   ],
   "source": [
    "t5 = pd.read_csv(os.path.join(tuner_output_images, 'mapping_table/T5.csv'))\n",
    "t5 = t5[['input_compound_id','descriptor_vector_id']]\n",
    "\n",
    "t10_c = pd.read_csv(os.path.join(tuner_output_images, 'results/T10c_cont.csv'))\n",
    "t10_c = t10_c [['descriptor_vector_id','cont_descriptor_vector_id']].drop_duplicates()\n",
    "\n",
    "cmpd_mapping_table = pd.merge(t5, t10_c, on='descriptor_vector_id', how='inner')\n",
    "cmpd_mapping_table"
   ]
  },
  {
   "cell_type": "code",
   "execution_count": 5,
   "id": "tested-diploma",
   "metadata": {},
   "outputs": [],
   "source": [
    "T_image_features = pd.read_csv(features_file)\n"
   ]
  },
  {
   "cell_type": "code",
   "execution_count": 6,
   "id": "cardiovascular-walter",
   "metadata": {},
   "outputs": [],
   "source": [
    "x_features = pd.merge(T_image_features, cmpd_mapping_table, on='input_compound_id', how='right')\n",
    "x_features = x_features.drop(['input_compound_id','descriptor_vector_id'], axis=1)\n",
    "x_features = x_features.groupby('cont_descriptor_vector_id').agg('mean')"
   ]
  },
  {
   "cell_type": "code",
   "execution_count": 7,
   "id": "adverse-voltage",
   "metadata": {},
   "outputs": [],
   "source": [
    "assert len(x_features)==len(t10_c)"
   ]
  },
  {
   "cell_type": "code",
   "execution_count": 9,
   "id": "contrary-valuation",
   "metadata": {},
   "outputs": [],
   "source": [
    "cls_T11_x_features = scipy.sparse.csr_matrix(x_features.values)\n"
   ]
  },
  {
   "cell_type": "code",
   "execution_count": 10,
   "id": "widespread-finger",
   "metadata": {},
   "outputs": [],
   "source": [
    "scipy.sparse.save_npz(file=os.path.join(tuner_output_images, 'matrices/cls/cls_T11_x_features.npz'), matrix=cls_T11_x_features)\n"
   ]
  }
 ],
 "metadata": {
  "kernelspec": {
   "display_name": "Mellody Tuner",
   "language": "python",
   "name": "melloddy_tuner_regression"
  },
  "language_info": {
   "codemirror_mode": {
    "name": "ipython",
    "version": 3
   },
   "file_extension": ".py",
   "mimetype": "text/x-python",
   "name": "python",
   "nbconvert_exporter": "python",
   "pygments_lexer": "ipython3",
   "version": "3.6.11"
  }
 },
 "nbformat": 4,
 "nbformat_minor": 5
}
