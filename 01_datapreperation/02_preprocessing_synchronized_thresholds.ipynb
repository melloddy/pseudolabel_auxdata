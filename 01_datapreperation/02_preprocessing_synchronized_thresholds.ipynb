{
 "cells": [
  {
   "cell_type": "raw",
   "metadata": {},
   "source": [
    "idea : \n",
    "\n",
    "Thresholds of tasks need to be synchronized between the main and auxiliary (=pseudolabel) tasks in order for them to be comparable. Otherwise, the pseudolabels would not be maximally informative for the main tasks. \n",
    "\n",
    "Tuner : \n",
    "Tuner creates the thresholds dynamically, based on the fixed adaptive scheme (20%). \n",
    "Given that the fraction of imaged compounds is <<1, this yields different thresholds for the step1 image model vs the baseline and baseline+aux models. \n",
    "\n",
    "Solution : \n",
    "Based on the baseline model thresholds, define the expert thresholds for the image-based model in step 1. \n"
   ]
  },
  {
   "cell_type": "raw",
   "metadata": {},
   "source": [
    "code should be executed after the T0-file csv tuner input creation for the step1 image model\n",
    "and will modify this file prior to processing with tuner"
   ]
  },
  {
   "cell_type": "code",
   "execution_count": null,
   "metadata": {},
   "outputs": [],
   "source": [
    "import pandas as pd \n",
    "import numpy as np\n",
    "import os"
   ]
  },
  {
   "cell_type": "code",
   "execution_count": null,
   "metadata": {},
   "outputs": [],
   "source": [
    "tuner_output_baseline = '/home/rama.jabal/Melloddy/aux_data/data/Mellody_tuner/all/output_all/images_w_melloddy/'\n",
    "tuner_input_images = '/home/rama.jabal/Melloddy/aux_data/pseudolabel_auxdata/datapreperation/images_files/input/'\n",
    "\n",
    "\n",
    "\n",
    "# baseline tuner t8 file \n",
    "path_t8 = os.path.join(tuner_output_baseline, 'results_tmp/classification/T8c.csv')\n",
    "t8 = pd.read_csv(path_t8)\n",
    "\n",
    "\n",
    "# T0-file csv tuner input creation for the step1 image model\n",
    "path_t0 = os.path.join(tuner_input_images,'T0.csv')\n",
    "t0 = pd.read_csv(path_t0)"
   ]
  },
  {
   "cell_type": "code",
   "execution_count": null,
   "metadata": {},
   "outputs": [],
   "source": [
    "t8 = t8[['input_assay_id','threshold','threshold_method']]\n",
    "t8 = t8.rename(columns={'threshold':'expert_threshold'})"
   ]
  },
  {
   "cell_type": "code",
   "execution_count": null,
   "metadata": {},
   "outputs": [],
   "source": [
    "t8['subgroup_index'] = t8.groupby('input_assay_id').cumcount()+1"
   ]
  },
  {
   "cell_type": "code",
   "execution_count": null,
   "metadata": {},
   "outputs": [],
   "source": [
    "t8"
   ]
  },
  {
   "cell_type": "code",
   "execution_count": null,
   "metadata": {},
   "outputs": [],
   "source": [
    "df = pd.pivot_table(\n",
    "    t8.drop_duplicates()\n",
    "    ,columns=['subgroup_index']\n",
    "    ,values=['expert_threshold']\n",
    "    ,index=['input_assay_id']\n",
    ")\n",
    "df.columns = df.columns.map(lambda x: '_'.join([*map(str, x)]))\n"
   ]
  },
  {
   "cell_type": "code",
   "execution_count": null,
   "metadata": {},
   "outputs": [],
   "source": [
    "threshold_cols = [f'expert_threshold_{i}' for i in range(1,6)]\n",
    "t0_out = pd.merge(\n",
    "    t0.drop(columns=threshold_cols)\n",
    "    ,df\n",
    "    ,how='inner'\n",
    "    ,on='input_assay_id'\n",
    ")"
   ]
  },
  {
   "cell_type": "code",
   "execution_count": null,
   "metadata": {},
   "outputs": [],
   "source": [
    "# MT will freeze if not all the expert threshold columns are present\n",
    "for col in threshold_cols :\n",
    "    if col not in t0_out.columns : \n",
    "        t0_out[col] = np.nan"
   ]
  },
  {
   "cell_type": "code",
   "execution_count": null,
   "metadata": {},
   "outputs": [],
   "source": []
  },
  {
   "cell_type": "raw",
   "metadata": {},
   "source": [
    "t0_out should replace the T0-file csv tuner input creation for the step1 image model"
   ]
  },
  {
   "cell_type": "code",
   "execution_count": null,
   "metadata": {},
   "outputs": [],
   "source": [
    "t0_out.to_csv(os.path.join(tuner_input_images,'T0_synchedthreshold.csv'), index=False)"
   ]
  },
  {
   "cell_type": "code",
   "execution_count": null,
   "metadata": {},
   "outputs": [],
   "source": [
    "iais_in_scope = set(t0_out['input_assay_id'])"
   ]
  },
  {
   "cell_type": "code",
   "execution_count": null,
   "metadata": {},
   "outputs": [],
   "source": [
    "### Aligning also the T1 and T2 files"
   ]
  },
  {
   "cell_type": "code",
   "execution_count": null,
   "metadata": {},
   "outputs": [],
   "source": [
    "path_t1 = os.path.join(tuner_input_images,'T1.csv')\n",
    "t1 = pd.read_csv(path_t1)"
   ]
  },
  {
   "cell_type": "code",
   "execution_count": null,
   "metadata": {},
   "outputs": [],
   "source": [
    "t1_synchedthreshold = t1.query('input_assay_id in @iais_in_scope')"
   ]
  },
  {
   "cell_type": "code",
   "execution_count": null,
   "metadata": {},
   "outputs": [],
   "source": [
    "t1_synchedthreshold.to_csv(os.path.join(tuner_input_images,'T1_synchedthreshold.csv'), index=False)"
   ]
  },
  {
   "cell_type": "code",
   "execution_count": null,
   "metadata": {},
   "outputs": [],
   "source": [
    "icis = set(t1_synchedthreshold['input_compound_id'])"
   ]
  },
  {
   "cell_type": "code",
   "execution_count": null,
   "metadata": {},
   "outputs": [],
   "source": [
    "path_t2 = os.path.join(tuner_input_images, 'T2.csv')\n",
    "t2 = pd.read_csv(path_t2)"
   ]
  },
  {
   "cell_type": "code",
   "execution_count": null,
   "metadata": {},
   "outputs": [],
   "source": [
    "t2.query('input_compound_id in @icis').to_csv(os.path.join(tuner_input_images,'T2_synchedthreshold.csv'), index=False)"
   ]
  }
 ],
 "metadata": {
  "kernelspec": {
   "display_name": "Mellody Tuner",
   "language": "python",
   "name": "melloddy_tuner_regression"
  },
  "language_info": {
   "codemirror_mode": {
    "name": "ipython",
    "version": 3
   },
   "file_extension": ".py",
   "mimetype": "text/x-python",
   "name": "python",
   "nbconvert_exporter": "python",
   "pygments_lexer": "ipython3",
   "version": "3.6.11"
  }
 },
 "nbformat": 4,
 "nbformat_minor": 4
}
